{
  "nbformat": 4,
  "nbformat_minor": 0,
  "metadata": {
    "colab": {
      "provenance": []
    },
    "kernelspec": {
      "name": "python3",
      "display_name": "Python 3"
    },
    "language_info": {
      "name": "python"
    }
  },
  "cells": [
    {
      "cell_type": "code",
      "execution_count": null,
      "metadata": {
        "id": "EcB-W2isDZOg"
      },
      "outputs": [],
      "source": [
        "!pip install langchain\n",
        "!pip install openai\n",
        "!pip install tiktoken"
      ]
    },
    {
      "cell_type": "code",
      "source": [
        "from langchain.llms import OpenAI\n",
        "from langchain.prompts import PromptTemplate\n",
        "from langchain.chains import LLMChain"
      ],
      "metadata": {
        "id": "zBBlE9tNDr8W"
      },
      "execution_count": 2,
      "outputs": []
    },
    {
      "cell_type": "code",
      "source": [
        "import os\n",
        "os.environ[\"OPENAI_API_KEY\"] = 'YOUR_API_KEY'\n",
        "os.environ[\"HUGGINGFACEHUB_API_TOKEN\"] = 'YOUR_API_KEY'"
      ],
      "metadata": {
        "id": "RuAPQiG6Dn_R"
      },
      "execution_count": 4,
      "outputs": []
    },
    {
      "cell_type": "code",
      "source": [
        "llm = OpenAI()"
      ],
      "metadata": {
        "id": "M9jgy5D-EDDB"
      },
      "execution_count": 5,
      "outputs": []
    },
    {
      "cell_type": "code",
      "source": [
        "prompt = PromptTemplate(\n",
        "    input_variables=['place'],\n",
        "    template=\"Best places to visit in {place}?\"\n",
        ")"
      ],
      "metadata": {
        "id": "MrQgjtEkEH6N"
      },
      "execution_count": 6,
      "outputs": []
    },
    {
      "cell_type": "code",
      "source": [
        "chain = LLMChain(llm=llm, prompt=prompt)"
      ],
      "metadata": {
        "id": "InSGxJRUEVEZ"
      },
      "execution_count": 7,
      "outputs": []
    },
    {
      "cell_type": "code",
      "source": [
        "print(chain.run('Kenya'))"
      ],
      "metadata": {
        "colab": {
          "base_uri": "https://localhost:8080/"
        },
        "id": "kHS6Cn6LEbTh",
        "outputId": "d92e60de-a3bd-483a-c363-54250c8270c0"
      },
      "execution_count": 8,
      "outputs": [
        {
          "output_type": "stream",
          "name": "stdout",
          "text": [
            "\n",
            "1. Masai Mara National Reserve - famous for its annual wildebeest migration and abundance of wildlife.\n",
            "2. Amboseli National Park - known for its large herds of elephants and stunning views of Mount Kilimanjaro.\n",
            "3. Lake Nakuru National Park - home to a large population of flamingos and other bird species.\n",
            "4. Tsavo National Parks - the largest national park in Kenya, with diverse landscapes and abundant wildlife.\n",
            "5. Lamu Island - a UNESCO World Heritage site known for its Swahili culture, beautiful beaches, and traditional dhow sailing.\n",
            "6. Samburu National Reserve - a remote and less-visited park with unique wildlife such as the Grevy's zebra and reticulated giraffe.\n",
            "7. Mount Kenya National Park - home to the second-highest mountain in Africa and a variety of flora and fauna.\n",
            "8. Diani Beach - a popular beach destination with white sand beaches and crystal clear waters.\n",
            "9. Nairobi National Park - a unique park located just outside of Nairobi city, where visitors can see wildlife against a backdrop of skyscrapers.\n",
            "10. Lake Turkana - the largest desert lake in the world, known for its stunning landscapes and unique culture of the local Turkana people.\n"
          ]
        }
      ]
    },
    {
      "cell_type": "markdown",
      "source": [
        "# **Sequential Chains**\n",
        "\n",
        "Make a series of sequencial chain calls for a combines output."
      ],
      "metadata": {
        "id": "ZYhck48xEjQL"
      }
    },
    {
      "cell_type": "code",
      "source": [
        "from langchain.chains import SimpleSequentialChain\n",
        "from langchain import HuggingFaceHub"
      ],
      "metadata": {
        "id": "nFHLdOeuEo-F"
      },
      "execution_count": 9,
      "outputs": []
    },
    {
      "cell_type": "code",
      "source": [
        "template = \"\"\" You have to suggest 5 best places to visit in {place}?\n",
        "\n",
        "YOUR RESPONSE\n",
        "\"\"\"\n",
        "prompt_template = PromptTemplate(\n",
        "    input_variables=[\"place\"],\n",
        "    template=template\n",
        ")"
      ],
      "metadata": {
        "id": "eF-GK2mJE9bu"
      },
      "execution_count": 13,
      "outputs": []
    },
    {
      "cell_type": "code",
      "source": [
        "hF_LLM = HuggingFaceHub(repo_id = \"google/flan-t5-large\")"
      ],
      "metadata": {
        "id": "mPDPxL3qFGGZ"
      },
      "execution_count": null,
      "outputs": []
    },
    {
      "cell_type": "code",
      "source": [
        "place_chain = LLMChain(llm=hF_LLM, prompt=prompt_template)"
      ],
      "metadata": {
        "id": "bAW6Av0NFgRY"
      },
      "execution_count": 29,
      "outputs": []
    },
    {
      "cell_type": "code",
      "source": [
        "template = \"\"\" Given a list of places, please estimate the expenses to visit all of them in the local currency and also the days needed {expenses}\n",
        "\n",
        "YOUR REPONSE:\n",
        "\"\"\"\n",
        "prompt_template = PromptTemplate(\n",
        "    input_variables=[\"expenses\"],\n",
        "    template=template\n",
        ")"
      ],
      "metadata": {
        "id": "yF1LMbnsFtec"
      },
      "execution_count": 21,
      "outputs": []
    },
    {
      "cell_type": "code",
      "source": [
        "llm= OpenAI()"
      ],
      "metadata": {
        "id": "1_qyFYgXGNd1"
      },
      "execution_count": 24,
      "outputs": []
    },
    {
      "cell_type": "code",
      "source": [
        "expenses_chain = LLMChain(llm=llm, prompt=prompt_template)"
      ],
      "metadata": {
        "id": "PGl6nd7KGY7A"
      },
      "execution_count": 25,
      "outputs": []
    },
    {
      "cell_type": "code",
      "source": [
        "final_chain = SimpleSequentialChain(chains=[place_chain, expenses_chain], verbose=True)"
      ],
      "metadata": {
        "id": "2_9Cnx8VGi2N"
      },
      "execution_count": 26,
      "outputs": []
    },
    {
      "cell_type": "code",
      "source": [
        "review = final_chain.run('Kenya')"
      ],
      "metadata": {
        "colab": {
          "base_uri": "https://localhost:8080/"
        },
        "id": "kbfN5p2YGr9B",
        "outputId": "74402889-54cf-4ec0-a3f3-70d670c1c184"
      },
      "execution_count": 19,
      "outputs": [
        {
          "output_type": "stream",
          "name": "stdout",
          "text": [
            "\n",
            "\n",
            "\u001b[1m> Entering new SimpleSequentialChain chain...\u001b[0m\n",
            "\u001b[36;1m\u001b[1;3mKenya National Museum\u001b[0m\n",
            "\u001b[33;1m\u001b[1;3m\n",
            "Based on my research, the estimated expenses for visiting the Kenya National Museum are as follows:\n",
            "\n",
            "1. Entrance Fee: 700 Kenyan Shillings (KES) for adults, 350 KES for children\n",
            "2. Camera Fee: 200 KES\n",
            "3. Guided Tour Fee: 600 KES for a group of 10 people\n",
            "4. Souvenir Shop: Prices vary depending on the item\n",
            "5. Food and Drinks: 500 KES per meal\n",
            "6. Transportation: 100-400 KES depending on the mode of transportation and distance\n",
            "\n",
            "Assuming a group of 4 adults and 2 children, the estimated expenses for visiting the Kenya National Museum would be:\n",
            "\n",
            "Entrance Fee: (700 x 4 adults) + (350 x 2 children) = 3,100 KES\n",
            "Camera Fee: 200 KES\n",
            "Guided Tour Fee: 600 KES\n",
            "Souvenir Shop: 2,000 KES (estimated)\n",
            "Food and Drinks: (500 x 3 meals) x 6 people = 9,000 KES\n",
            "Transportation: 2,000 KES (estimated)\n",
            "\n",
            "Total Expenses: 17,900 KES\n",
            "\n",
            "As for the number of days needed to visit\u001b[0m\n",
            "\n",
            "\u001b[1m> Finished chain.\u001b[0m\n"
          ]
        }
      ]
    }
  ]
}