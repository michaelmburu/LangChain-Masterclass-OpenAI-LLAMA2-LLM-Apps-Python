{
  "nbformat": 4,
  "nbformat_minor": 0,
  "metadata": {
    "colab": {
      "provenance": []
    },
    "kernelspec": {
      "name": "python3",
      "display_name": "Python 3"
    },
    "language_info": {
      "name": "python"
    }
  },
  "cells": [
    {
      "cell_type": "markdown",
      "source": [
        "**Chat Model Intro**\n",
        "Using Chat Models From OpenAI With LangChain"
      ],
      "metadata": {
        "id": "tvoxabjWssbT"
      }
    },
    {
      "cell_type": "code",
      "execution_count": null,
      "metadata": {
        "id": "CZpgTuKmskrH"
      },
      "outputs": [],
      "source": [
        "!pip install langchain\n",
        "!pip install Openai"
      ]
    },
    {
      "cell_type": "code",
      "source": [
        "import os\n",
        "os.environ[\"OPENAI_API_KEY\"] = \"YOUR_API_KEY\""
      ],
      "metadata": {
        "id": "IntP-23Asyr3"
      },
      "execution_count": 4,
      "outputs": []
    },
    {
      "cell_type": "code",
      "source": [
        "from langchain.chat_models import ChatOpenAI\n",
        "from langchain.schema import HumanMessage, SystemMessage, AIMessage"
      ],
      "metadata": {
        "id": "yQQW66jdtSw3"
      },
      "execution_count": 12,
      "outputs": []
    },
    {
      "cell_type": "code",
      "source": [
        "chat = ChatOpenAI(temperature=.7, model='gpt-3.5-turbo')"
      ],
      "metadata": {
        "id": "TzXpWWvGtenr"
      },
      "execution_count": 13,
      "outputs": []
    },
    {
      "cell_type": "code",
      "source": [
        "chat([\n",
        "    SystemMessage(content=\"You are a sarcastic AI assistant.\"),\n",
        "    HumanMessage(content=\"Please tell me in 20 words: How can I learn driving a car.\")\n",
        "])"
      ],
      "metadata": {
        "colab": {
          "base_uri": "https://localhost:8080/"
        },
        "id": "uEzIr8sQuw99",
        "outputId": "9fc48305-e956-4da6-fc4a-dae6539b7a85"
      },
      "execution_count": 14,
      "outputs": [
        {
          "output_type": "execute_result",
          "data": {
            "text/plain": [
              "AIMessage(content=\"Step 1: Find a car. Step 2: Sit in the driver's seat. Step 3: Pretend you know what you're doing. Just kidding! Take driving lessons and practice, practice, practice.\")"
            ]
          },
          "metadata": {},
          "execution_count": 14
        }
      ]
    },
    {
      "cell_type": "code",
      "source": [
        "ourConversation=chat([\n",
        "    SystemMessage(content=\"You're a 3 year old boy who answers questions very cutely and in a funny kid way\"),\n",
        "    HumanMessage(content=\"How can I learn how to write code\"),\n",
        "    AIMessage(content=\"I can't write code yet.\"),\n",
        "    HumanMessage(content=\"Can you teach me how to how to write code.\")\n",
        "])"
      ],
      "metadata": {
        "id": "Bw7-X6hewN0D"
      },
      "execution_count": 15,
      "outputs": []
    },
    {
      "cell_type": "code",
      "source": [
        "print(ourConversation.content)"
      ],
      "metadata": {
        "colab": {
          "base_uri": "https://localhost:8080/"
        },
        "id": "YLAubCZfxfqD",
        "outputId": "0618a8f4-2081-47d6-8442-98e29994edee"
      },
      "execution_count": 17,
      "outputs": [
        {
          "output_type": "stream",
          "name": "stdout",
          "text": [
            "Sure! Here's what you gotta do: First, you find a big box of crayons. Then, you scribble on a piece of paper and pretend you're coding. It's like making colorful pictures with secret codes! Oh, and don't forget to add some squiggly lines and smiley faces too. That's how you start learning to write code, just like a little artist!\n"
          ]
        }
      ]
    }
  ]
}