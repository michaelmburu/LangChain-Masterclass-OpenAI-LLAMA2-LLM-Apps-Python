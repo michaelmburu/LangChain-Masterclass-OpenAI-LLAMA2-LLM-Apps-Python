{
  "cells": [
    {
      "cell_type": "markdown",
      "metadata": {
        "id": "MoVsNW72EdQo"
      },
      "source": [
        "**Let's Use OpenSource LLM Hosted on Hugging Face**"
      ]
    },
    {
      "cell_type": "code",
      "execution_count": null,
      "metadata": {
        "id": "2m2xCxT4EnYR"
      },
      "outputs": [],
      "source": [
        "!pip install huggingface_hub\n",
        "!pip install langchain"
      ]
    },
    {
      "cell_type": "code",
      "execution_count": 3,
      "metadata": {
        "id": "IGfztj9GEuIz"
      },
      "outputs": [],
      "source": [
        "import os\n",
        "os.environ[\"HUGGINGFACEHUB_API_TOKEN\"] = \"YOUR_API_KEY\""
      ]
    },
    {
      "cell_type": "code",
      "execution_count": 5,
      "metadata": {
        "id": "0kxBtQr_E9jx"
      },
      "outputs": [],
      "source": [
        "from langchain.llms import HuggingFaceHub"
      ]
    },
    {
      "cell_type": "code",
      "execution_count": 38,
      "metadata": {
        "colab": {
          "base_uri": "https://localhost:8080/"
        },
        "id": "PAND-JSnFawB",
        "outputId": "3751487c-bbdc-4a2a-d0dd-d070b49bf268"
      },
      "outputs": [
        {
          "name": "stderr",
          "output_type": "stream",
          "text": [
            "/usr/local/lib/python3.10/dist-packages/huggingface_hub/utils/_deprecation.py:127: FutureWarning: '__init__' (from 'huggingface_hub.inference_api') is deprecated and will be removed from version '1.0'. `InferenceApi` client is deprecated in favor of the more feature-complete `InferenceClient`. Check out this guide to learn how to convert your script to use it: https://huggingface.co/docs/huggingface_hub/guides/inference#legacy-inferenceapi-client.\n",
            "  warnings.warn(warning_message, FutureWarning)\n"
          ]
        }
      ],
      "source": [
        "llm = HuggingFaceHub(repo_id=\"google/flan-t5-xxl\")"
      ]
    },
    {
      "cell_type": "code",
      "execution_count": 39,
      "metadata": {
        "id": "rNOZ9s_BF01l"
      },
      "outputs": [],
      "source": [
        "our_query = \"Five people were eating apples, A finished before B, but behind C. D finished before E, but behind B. What was the finishing order?\"\n",
        "completion = llm(our_query)"
      ]
    },
    {
      "cell_type": "code",
      "execution_count": 40,
      "metadata": {
        "colab": {
          "base_uri": "https://localhost:8080/"
        },
        "id": "3lTIQpN2F83q",
        "outputId": "4ae576f7-bff4-4a64-e5c7-7ae01f41dde8"
      },
      "outputs": [
        {
          "name": "stdout",
          "output_type": "stream",
          "text": [
            "A, B, C, D, E\n"
          ]
        }
      ],
      "source": [
        "print(completion)\n",
        "#Not accurate"
      ]
    }
  ],
  "metadata": {
    "colab": {
      "provenance": []
    },
    "kernelspec": {
      "display_name": "Python 3",
      "name": "python3"
    },
    "language_info": {
      "name": "python"
    }
  },
  "nbformat": 4,
  "nbformat_minor": 0
}
