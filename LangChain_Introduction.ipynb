{
  "nbformat": 4,
  "nbformat_minor": 0,
  "metadata": {
    "colab": {
      "provenance": []
    },
    "kernelspec": {
      "name": "python3",
      "display_name": "Python 3"
    },
    "language_info": {
      "name": "python"
    }
  },
  "cells": [
    {
      "cell_type": "code",
      "execution_count": null,
      "metadata": {
        "id": "UDFxwufFRFen"
      },
      "outputs": [],
      "source": [
        "%pip install PyPDF2\n",
        "%pip install langchain\n",
        "%pip install openai\n",
        "%pip install faiss-cpu\n",
        "%pip install tiktoken"
      ]
    },
    {
      "cell_type": "markdown",
      "source": [
        "**Import Classes From Libraries**"
      ],
      "metadata": {
        "id": "mnPBL4LaRLfI"
      }
    },
    {
      "cell_type": "code",
      "source": [
        "from PyPDF2 import PdfReader\n",
        "from langchain.embeddings.openai import OpenAIEmbeddings\n",
        "from langchain.text_splitter import CharacterTextSplitter\n",
        "from langchain.vectorstores import FAISS\n",
        "from langchain.chains.question_answering import load_qa_chain\n",
        "from langchain.llms import OpenAI\n"
      ],
      "metadata": {
        "id": "W888f5qyRG7d"
      },
      "execution_count": 11,
      "outputs": []
    },
    {
      "cell_type": "markdown",
      "source": [
        "**Import OS Module**"
      ],
      "metadata": {
        "id": "PRkaa5aKSGeB"
      }
    },
    {
      "cell_type": "code",
      "source": [
        "import os\n",
        "os.environ[\"OPENAI_API_KEY\"] = \"YOUR-API-KEY\""
      ],
      "metadata": {
        "id": "cZS79UWYSL5Y"
      },
      "execution_count": 12,
      "outputs": []
    },
    {
      "cell_type": "markdown",
      "source": [
        "**Simple LLM With No Generic Knowledge**"
      ],
      "metadata": {
        "id": "nhrjjwgXSwcw"
      }
    },
    {
      "cell_type": "code",
      "source": [
        "llm = OpenAI(model_name=\"gpt-3.5-turbo-instruct\")"
      ],
      "metadata": {
        "id": "IhvSHeZwS1JB"
      },
      "execution_count": 15,
      "outputs": []
    },
    {
      "cell_type": "code",
      "source": [
        "our_query = \"How many awards did Huhu won\"\n",
        "print(llm(our_query))"
      ],
      "metadata": {
        "colab": {
          "base_uri": "https://localhost:8080/"
        },
        "id": "Lfa5zW8NTF-b",
        "outputId": "a8fd8b45-8e59-4a0b-d06b-64edd4b843f6"
      },
      "execution_count": 16,
      "outputs": [
        {
          "output_type": "stream",
          "name": "stdout",
          "text": [
            "\n",
            "\n",
            "There is no information available on an individual or entity named \"Huhu\" winning awards. Therefore, it is not possible to determine how many awards they may have won.\n"
          ]
        }
      ]
    },
    {
      "cell_type": "markdown",
      "source": [
        "**LLM Call With Our PDF As Reference**"
      ],
      "metadata": {
        "id": "oOYaUTJfzZB0"
      }
    },
    {
      "cell_type": "code",
      "source": [
        "# Access PDF locally\n",
        "# data = PdfReader('/Users/username/documents/MyPDF.pdf')"
      ],
      "metadata": {
        "id": "47VzGBne3f-s"
      },
      "execution_count": 27,
      "outputs": []
    },
    {
      "cell_type": "code",
      "source": [
        "data = PdfReader('MyPDF.pdf')"
      ],
      "metadata": {
        "id": "NFxG6xsgzeGy"
      },
      "execution_count": 29,
      "outputs": []
    },
    {
      "cell_type": "code",
      "source": [
        "combined_text = ''\n",
        "for i, page in enumerate(data.pages):\n",
        "  text = page.extract_text()\n",
        "  if text:\n",
        "    combined_text += text"
      ],
      "metadata": {
        "id": "_W5mZGGS5NHN"
      },
      "execution_count": 30,
      "outputs": []
    },
    {
      "cell_type": "code",
      "source": [
        "combined_text"
      ],
      "metadata": {
        "colab": {
          "base_uri": "https://localhost:8080/",
          "height": 53
        },
        "id": "N5uCJmtM5odg",
        "outputId": "9bab229d-0153-49e9-8afd-46801571c911"
      },
      "execution_count": 32,
      "outputs": [
        {
          "output_type": "execute_result",
          "data": {
            "text/plain": [
              "' C2 - Safaricom Internal Huhu is a ﬁc*onal character; he has a very good humor.  All of friends like him a lot, huhu is from Egypt.  Huhu won a total of 5 awards.  '"
            ],
            "application/vnd.google.colaboratory.intrinsic+json": {
              "type": "string"
            }
          },
          "metadata": {},
          "execution_count": 32
        }
      ]
    },
    {
      "cell_type": "code",
      "source": [
        "text_splitter = CharacterTextSplitter(separator='\\n', chunk_size=200, chunk_overlap=20, length_function = len)\n",
        "finalData = text_splitter.split_text(combined_text)"
      ],
      "metadata": {
        "id": "zXGYZk4C6Mfx"
      },
      "execution_count": 33,
      "outputs": []
    },
    {
      "cell_type": "code",
      "source": [
        "len(finalData)"
      ],
      "metadata": {
        "colab": {
          "base_uri": "https://localhost:8080/"
        },
        "id": "Nwu7hGXF6sD1",
        "outputId": "783f97bc-0348-472f-f128-51a48be1ef16"
      },
      "execution_count": 34,
      "outputs": [
        {
          "output_type": "execute_result",
          "data": {
            "text/plain": [
              "1"
            ]
          },
          "metadata": {},
          "execution_count": 34
        }
      ]
    },
    {
      "cell_type": "code",
      "source": [
        "# FAISS stands for \"Facebook AI Similarity Search. \" It is an open source library developed by Facebooks AI Research (FAIR)\n",
        "embeddings = OpenAIEmbeddings()"
      ],
      "metadata": {
        "id": "ao3kvunc69kv"
      },
      "execution_count": 35,
      "outputs": []
    },
    {
      "cell_type": "code",
      "source": [
        "documentSearch = FAISS.from_texts(finalData, embeddings)"
      ],
      "metadata": {
        "id": "KyyMODlX7WTf"
      },
      "execution_count": 36,
      "outputs": []
    },
    {
      "cell_type": "code",
      "source": [
        "chain = load_qa_chain(OpenAI(), chain_type='stuff')"
      ],
      "metadata": {
        "id": "Qo0fewu37hrm"
      },
      "execution_count": 37,
      "outputs": []
    },
    {
      "cell_type": "code",
      "source": [
        "our_query = 'How many awards did Huhu won?'\n",
        "docs = documentSearch.similarity_search(our_query)\n",
        "chain.run(input_documents=docs, question=our_query)"
      ],
      "metadata": {
        "colab": {
          "base_uri": "https://localhost:8080/",
          "height": 35
        },
        "id": "7Zsbq_JD7sWp",
        "outputId": "8a980f40-d53d-4df3-d90a-821286884296"
      },
      "execution_count": 39,
      "outputs": [
        {
          "output_type": "execute_result",
          "data": {
            "text/plain": [
              "' Huhu won a total of 5 awards.'"
            ],
            "application/vnd.google.colaboratory.intrinsic+json": {
              "type": "string"
            }
          },
          "metadata": {},
          "execution_count": 39
        }
      ]
    }
  ]
}