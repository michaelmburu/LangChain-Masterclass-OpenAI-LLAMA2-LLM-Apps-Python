{
  "nbformat": 4,
  "nbformat_minor": 0,
  "metadata": {
    "colab": {
      "provenance": []
    },
    "kernelspec": {
      "name": "python3",
      "display_name": "Python 3"
    },
    "language_info": {
      "name": "python"
    }
  },
  "cells": [
    {
      "cell_type": "code",
      "source": [
        "!pip install langchain\n",
        "!pip install chromadb\n",
        "!pip install sentence_transformers"
      ],
      "metadata": {
        "colab": {
          "base_uri": "https://localhost:8080/"
        },
        "id": "ZJG0rtUE-XP9",
        "outputId": "5107963a-d98d-4131-fa3e-4893c23be38b"
      },
      "execution_count": 1,
      "outputs": [
        {
          "output_type": "stream",
          "name": "stdout",
          "text": [
            "Collecting langchain\n",
            "  Downloading langchain-0.0.351-py3-none-any.whl (794 kB)\n",
            "\u001b[2K     \u001b[90m━━━━━━━━━━━━━━━━━━━━━━━━━━━━━━━━━━━━━━━━\u001b[0m \u001b[32m794.3/794.3 kB\u001b[0m \u001b[31m5.5 MB/s\u001b[0m eta \u001b[36m0:00:00\u001b[0m\n",
            "\u001b[?25hRequirement already satisfied: PyYAML>=5.3 in /usr/local/lib/python3.10/dist-packages (from langchain) (6.0.1)\n",
            "Requirement already satisfied: SQLAlchemy<3,>=1.4 in /usr/local/lib/python3.10/dist-packages (from langchain) (2.0.23)\n",
            "Requirement already satisfied: aiohttp<4.0.0,>=3.8.3 in /usr/local/lib/python3.10/dist-packages (from langchain) (3.9.1)\n",
            "Requirement already satisfied: async-timeout<5.0.0,>=4.0.0 in /usr/local/lib/python3.10/dist-packages (from langchain) (4.0.3)\n",
            "Collecting dataclasses-json<0.7,>=0.5.7 (from langchain)\n",
            "  Downloading dataclasses_json-0.6.3-py3-none-any.whl (28 kB)\n",
            "Collecting jsonpatch<2.0,>=1.33 (from langchain)\n",
            "  Downloading jsonpatch-1.33-py2.py3-none-any.whl (12 kB)\n",
            "Collecting langchain-community<0.1,>=0.0.2 (from langchain)\n",
            "  Downloading langchain_community-0.0.4-py3-none-any.whl (1.5 MB)\n",
            "\u001b[2K     \u001b[90m━━━━━━━━━━━━━━━━━━━━━━━━━━━━━━━━━━━━━━━━\u001b[0m \u001b[32m1.5/1.5 MB\u001b[0m \u001b[31m28.1 MB/s\u001b[0m eta \u001b[36m0:00:00\u001b[0m\n",
            "\u001b[?25hCollecting langchain-core<0.2,>=0.1 (from langchain)\n",
            "  Downloading langchain_core-0.1.1-py3-none-any.whl (190 kB)\n",
            "\u001b[2K     \u001b[90m━━━━━━━━━━━━━━━━━━━━━━━━━━━━━━━━━━━━━━━━\u001b[0m \u001b[32m190.6/190.6 kB\u001b[0m \u001b[31m22.5 MB/s\u001b[0m eta \u001b[36m0:00:00\u001b[0m\n",
            "\u001b[?25hCollecting langsmith<0.1.0,>=0.0.70 (from langchain)\n",
            "  Downloading langsmith-0.0.72-py3-none-any.whl (46 kB)\n",
            "\u001b[2K     \u001b[90m━━━━━━━━━━━━━━━━━━━━━━━━━━━━━━━━━━━━━━━━\u001b[0m \u001b[32m46.3/46.3 kB\u001b[0m \u001b[31m4.3 MB/s\u001b[0m eta \u001b[36m0:00:00\u001b[0m\n",
            "\u001b[?25hRequirement already satisfied: numpy<2,>=1 in /usr/local/lib/python3.10/dist-packages (from langchain) (1.23.5)\n",
            "Requirement already satisfied: pydantic<3,>=1 in /usr/local/lib/python3.10/dist-packages (from langchain) (1.10.13)\n",
            "Requirement already satisfied: requests<3,>=2 in /usr/local/lib/python3.10/dist-packages (from langchain) (2.31.0)\n",
            "Requirement already satisfied: tenacity<9.0.0,>=8.1.0 in /usr/local/lib/python3.10/dist-packages (from langchain) (8.2.3)\n",
            "Requirement already satisfied: attrs>=17.3.0 in /usr/local/lib/python3.10/dist-packages (from aiohttp<4.0.0,>=3.8.3->langchain) (23.1.0)\n",
            "Requirement already satisfied: multidict<7.0,>=4.5 in /usr/local/lib/python3.10/dist-packages (from aiohttp<4.0.0,>=3.8.3->langchain) (6.0.4)\n",
            "Requirement already satisfied: yarl<2.0,>=1.0 in /usr/local/lib/python3.10/dist-packages (from aiohttp<4.0.0,>=3.8.3->langchain) (1.9.4)\n",
            "Requirement already satisfied: frozenlist>=1.1.1 in /usr/local/lib/python3.10/dist-packages (from aiohttp<4.0.0,>=3.8.3->langchain) (1.4.0)\n",
            "Requirement already satisfied: aiosignal>=1.1.2 in /usr/local/lib/python3.10/dist-packages (from aiohttp<4.0.0,>=3.8.3->langchain) (1.3.1)\n",
            "Collecting marshmallow<4.0.0,>=3.18.0 (from dataclasses-json<0.7,>=0.5.7->langchain)\n",
            "  Downloading marshmallow-3.20.1-py3-none-any.whl (49 kB)\n",
            "\u001b[2K     \u001b[90m━━━━━━━━━━━━━━━━━━━━━━━━━━━━━━━━━━━━━━━━\u001b[0m \u001b[32m49.4/49.4 kB\u001b[0m \u001b[31m7.1 MB/s\u001b[0m eta \u001b[36m0:00:00\u001b[0m\n",
            "\u001b[?25hCollecting typing-inspect<1,>=0.4.0 (from dataclasses-json<0.7,>=0.5.7->langchain)\n",
            "  Downloading typing_inspect-0.9.0-py3-none-any.whl (8.8 kB)\n",
            "Collecting jsonpointer>=1.9 (from jsonpatch<2.0,>=1.33->langchain)\n",
            "  Downloading jsonpointer-2.4-py2.py3-none-any.whl (7.8 kB)\n",
            "Requirement already satisfied: anyio<5,>=3 in /usr/local/lib/python3.10/dist-packages (from langchain-core<0.2,>=0.1->langchain) (3.7.1)\n",
            "Requirement already satisfied: packaging<24.0,>=23.2 in /usr/local/lib/python3.10/dist-packages (from langchain-core<0.2,>=0.1->langchain) (23.2)\n",
            "Requirement already satisfied: typing-extensions>=4.2.0 in /usr/local/lib/python3.10/dist-packages (from pydantic<3,>=1->langchain) (4.5.0)\n",
            "Requirement already satisfied: charset-normalizer<4,>=2 in /usr/local/lib/python3.10/dist-packages (from requests<3,>=2->langchain) (3.3.2)\n",
            "Requirement already satisfied: idna<4,>=2.5 in /usr/local/lib/python3.10/dist-packages (from requests<3,>=2->langchain) (3.6)\n",
            "Requirement already satisfied: urllib3<3,>=1.21.1 in /usr/local/lib/python3.10/dist-packages (from requests<3,>=2->langchain) (2.0.7)\n",
            "Requirement already satisfied: certifi>=2017.4.17 in /usr/local/lib/python3.10/dist-packages (from requests<3,>=2->langchain) (2023.11.17)\n",
            "Requirement already satisfied: greenlet!=0.4.17 in /usr/local/lib/python3.10/dist-packages (from SQLAlchemy<3,>=1.4->langchain) (3.0.2)\n",
            "Requirement already satisfied: sniffio>=1.1 in /usr/local/lib/python3.10/dist-packages (from anyio<5,>=3->langchain-core<0.2,>=0.1->langchain) (1.3.0)\n",
            "Requirement already satisfied: exceptiongroup in /usr/local/lib/python3.10/dist-packages (from anyio<5,>=3->langchain-core<0.2,>=0.1->langchain) (1.2.0)\n",
            "Collecting mypy-extensions>=0.3.0 (from typing-inspect<1,>=0.4.0->dataclasses-json<0.7,>=0.5.7->langchain)\n",
            "  Downloading mypy_extensions-1.0.0-py3-none-any.whl (4.7 kB)\n",
            "Installing collected packages: mypy-extensions, marshmallow, jsonpointer, typing-inspect, langsmith, jsonpatch, langchain-core, dataclasses-json, langchain-community, langchain\n",
            "Successfully installed dataclasses-json-0.6.3 jsonpatch-1.33 jsonpointer-2.4 langchain-0.0.351 langchain-community-0.0.4 langchain-core-0.1.1 langsmith-0.0.72 marshmallow-3.20.1 mypy-extensions-1.0.0 typing-inspect-0.9.0\n",
            "Collecting chromadb\n",
            "  Downloading chromadb-0.4.20-py3-none-any.whl (507 kB)\n",
            "\u001b[2K     \u001b[90m━━━━━━━━━━━━━━━━━━━━━━━━━━━━━━━━━━━━━━━━\u001b[0m \u001b[32m507.7/507.7 kB\u001b[0m \u001b[31m4.1 MB/s\u001b[0m eta \u001b[36m0:00:00\u001b[0m\n",
            "\u001b[?25hRequirement already satisfied: requests>=2.28 in /usr/local/lib/python3.10/dist-packages (from chromadb) (2.31.0)\n",
            "Requirement already satisfied: pydantic>=1.9 in /usr/local/lib/python3.10/dist-packages (from chromadb) (1.10.13)\n",
            "Collecting chroma-hnswlib==0.7.3 (from chromadb)\n",
            "  Downloading chroma_hnswlib-0.7.3-cp310-cp310-manylinux_2_17_x86_64.manylinux2014_x86_64.whl (2.4 MB)\n",
            "\u001b[2K     \u001b[90m━━━━━━━━━━━━━━━━━━━━━━━━━━━━━━━━━━━━━━━━\u001b[0m \u001b[32m2.4/2.4 MB\u001b[0m \u001b[31m27.3 MB/s\u001b[0m eta \u001b[36m0:00:00\u001b[0m\n",
            "\u001b[?25hCollecting fastapi>=0.95.2 (from chromadb)\n",
            "  Downloading fastapi-0.105.0-py3-none-any.whl (93 kB)\n",
            "\u001b[2K     \u001b[90m━━━━━━━━━━━━━━━━━━━━━━━━━━━━━━━━━━━━━━━━\u001b[0m \u001b[32m93.1/93.1 kB\u001b[0m \u001b[31m9.4 MB/s\u001b[0m eta \u001b[36m0:00:00\u001b[0m\n",
            "\u001b[?25hCollecting uvicorn[standard]>=0.18.3 (from chromadb)\n",
            "  Downloading uvicorn-0.24.0.post1-py3-none-any.whl (59 kB)\n",
            "\u001b[2K     \u001b[90m━━━━━━━━━━━━━━━━━━━━━━━━━━━━━━━━━━━━━━━━\u001b[0m \u001b[32m59.7/59.7 kB\u001b[0m \u001b[31m9.1 MB/s\u001b[0m eta \u001b[36m0:00:00\u001b[0m\n",
            "\u001b[?25hRequirement already satisfied: numpy>=1.22.5 in /usr/local/lib/python3.10/dist-packages (from chromadb) (1.23.5)\n",
            "Collecting posthog>=2.4.0 (from chromadb)\n",
            "  Downloading posthog-3.1.0-py2.py3-none-any.whl (37 kB)\n",
            "Requirement already satisfied: typing-extensions>=4.5.0 in /usr/local/lib/python3.10/dist-packages (from chromadb) (4.5.0)\n",
            "Collecting pulsar-client>=3.1.0 (from chromadb)\n",
            "  Downloading pulsar_client-3.3.0-cp310-cp310-manylinux_2_17_x86_64.manylinux2014_x86_64.whl (5.4 MB)\n",
            "\u001b[2K     \u001b[90m━━━━━━━━━━━━━━━━━━━━━━━━━━━━━━━━━━━━━━━━\u001b[0m \u001b[32m5.4/5.4 MB\u001b[0m \u001b[31m62.1 MB/s\u001b[0m eta \u001b[36m0:00:00\u001b[0m\n",
            "\u001b[?25hCollecting onnxruntime>=1.14.1 (from chromadb)\n",
            "  Downloading onnxruntime-1.16.3-cp310-cp310-manylinux_2_17_x86_64.manylinux2014_x86_64.whl (6.4 MB)\n",
            "\u001b[2K     \u001b[90m━━━━━━━━━━━━━━━━━━━━━━━━━━━━━━━━━━━━━━━━\u001b[0m \u001b[32m6.4/6.4 MB\u001b[0m \u001b[31m68.4 MB/s\u001b[0m eta \u001b[36m0:00:00\u001b[0m\n",
            "\u001b[?25hCollecting opentelemetry-api>=1.2.0 (from chromadb)\n",
            "  Downloading opentelemetry_api-1.22.0-py3-none-any.whl (57 kB)\n",
            "\u001b[2K     \u001b[90m━━━━━━━━━━━━━━━━━━━━━━━━━━━━━━━━━━━━━━━━\u001b[0m \u001b[32m57.9/57.9 kB\u001b[0m \u001b[31m7.4 MB/s\u001b[0m eta \u001b[36m0:00:00\u001b[0m\n",
            "\u001b[?25hCollecting opentelemetry-exporter-otlp-proto-grpc>=1.2.0 (from chromadb)\n",
            "  Downloading opentelemetry_exporter_otlp_proto_grpc-1.22.0-py3-none-any.whl (18 kB)\n",
            "Collecting opentelemetry-instrumentation-fastapi>=0.41b0 (from chromadb)\n",
            "  Downloading opentelemetry_instrumentation_fastapi-0.42b0-py3-none-any.whl (11 kB)\n",
            "Collecting opentelemetry-sdk>=1.2.0 (from chromadb)\n",
            "  Downloading opentelemetry_sdk-1.22.0-py3-none-any.whl (105 kB)\n",
            "\u001b[2K     \u001b[90m━━━━━━━━━━━━━━━━━━━━━━━━━━━━━━━━━━━━━━━━\u001b[0m \u001b[32m105.6/105.6 kB\u001b[0m \u001b[31m16.5 MB/s\u001b[0m eta \u001b[36m0:00:00\u001b[0m\n",
            "\u001b[?25hRequirement already satisfied: tokenizers>=0.13.2 in /usr/local/lib/python3.10/dist-packages (from chromadb) (0.15.0)\n",
            "Collecting pypika>=0.48.9 (from chromadb)\n",
            "  Downloading PyPika-0.48.9.tar.gz (67 kB)\n",
            "\u001b[2K     \u001b[90m━━━━━━━━━━━━━━━━━━━━━━━━━━━━━━━━━━━━━━━━\u001b[0m \u001b[32m67.3/67.3 kB\u001b[0m \u001b[31m9.1 MB/s\u001b[0m eta \u001b[36m0:00:00\u001b[0m\n",
            "\u001b[?25h  Installing build dependencies ... \u001b[?25l\u001b[?25hdone\n",
            "  Getting requirements to build wheel ... \u001b[?25l\u001b[?25hdone\n",
            "  Preparing metadata (pyproject.toml) ... \u001b[?25l\u001b[?25hdone\n",
            "Requirement already satisfied: tqdm>=4.65.0 in /usr/local/lib/python3.10/dist-packages (from chromadb) (4.66.1)\n",
            "Collecting overrides>=7.3.1 (from chromadb)\n",
            "  Downloading overrides-7.4.0-py3-none-any.whl (17 kB)\n",
            "Requirement already satisfied: importlib-resources in /usr/local/lib/python3.10/dist-packages (from chromadb) (6.1.1)\n",
            "Requirement already satisfied: grpcio>=1.58.0 in /usr/local/lib/python3.10/dist-packages (from chromadb) (1.60.0)\n",
            "Collecting bcrypt>=4.0.1 (from chromadb)\n",
            "  Downloading bcrypt-4.1.2-cp39-abi3-manylinux_2_28_x86_64.whl (698 kB)\n",
            "\u001b[2K     \u001b[90m━━━━━━━━━━━━━━━━━━━━━━━━━━━━━━━━━━━━━━━━\u001b[0m \u001b[32m698.9/698.9 kB\u001b[0m \u001b[31m60.5 MB/s\u001b[0m eta \u001b[36m0:00:00\u001b[0m\n",
            "\u001b[?25hRequirement already satisfied: typer>=0.9.0 in /usr/local/lib/python3.10/dist-packages (from chromadb) (0.9.0)\n",
            "Collecting kubernetes>=28.1.0 (from chromadb)\n",
            "  Downloading kubernetes-28.1.0-py2.py3-none-any.whl (1.6 MB)\n",
            "\u001b[2K     \u001b[90m━━━━━━━━━━━━━━━━━━━━━━━━━━━━━━━━━━━━━━━━\u001b[0m \u001b[32m1.6/1.6 MB\u001b[0m \u001b[31m92.7 MB/s\u001b[0m eta \u001b[36m0:00:00\u001b[0m\n",
            "\u001b[?25hRequirement already satisfied: tenacity>=8.2.3 in /usr/local/lib/python3.10/dist-packages (from chromadb) (8.2.3)\n",
            "Requirement already satisfied: PyYAML>=6.0.0 in /usr/local/lib/python3.10/dist-packages (from chromadb) (6.0.1)\n",
            "Collecting mmh3>=4.0.1 (from chromadb)\n",
            "  Downloading mmh3-4.0.1-cp310-cp310-manylinux_2_5_x86_64.manylinux1_x86_64.manylinux_2_17_x86_64.manylinux2014_x86_64.whl (72 kB)\n",
            "\u001b[2K     \u001b[90m━━━━━━━━━━━━━━━━━━━━━━━━━━━━━━━━━━━━━━━━\u001b[0m \u001b[32m72.6/72.6 kB\u001b[0m \u001b[31m10.2 MB/s\u001b[0m eta \u001b[36m0:00:00\u001b[0m\n",
            "\u001b[?25hRequirement already satisfied: anyio<4.0.0,>=3.7.1 in /usr/local/lib/python3.10/dist-packages (from fastapi>=0.95.2->chromadb) (3.7.1)\n",
            "Collecting starlette<0.28.0,>=0.27.0 (from fastapi>=0.95.2->chromadb)\n",
            "  Downloading starlette-0.27.0-py3-none-any.whl (66 kB)\n",
            "\u001b[2K     \u001b[90m━━━━━━━━━━━━━━━━━━━━━━━━━━━━━━━━━━━━━━━━\u001b[0m \u001b[32m67.0/67.0 kB\u001b[0m \u001b[31m9.5 MB/s\u001b[0m eta \u001b[36m0:00:00\u001b[0m\n",
            "\u001b[?25hCollecting typing-extensions>=4.5.0 (from chromadb)\n",
            "  Downloading typing_extensions-4.9.0-py3-none-any.whl (32 kB)\n",
            "Requirement already satisfied: certifi>=14.05.14 in /usr/local/lib/python3.10/dist-packages (from kubernetes>=28.1.0->chromadb) (2023.11.17)\n",
            "Requirement already satisfied: six>=1.9.0 in /usr/local/lib/python3.10/dist-packages (from kubernetes>=28.1.0->chromadb) (1.16.0)\n",
            "Requirement already satisfied: python-dateutil>=2.5.3 in /usr/local/lib/python3.10/dist-packages (from kubernetes>=28.1.0->chromadb) (2.8.2)\n",
            "Requirement already satisfied: google-auth>=1.0.1 in /usr/local/lib/python3.10/dist-packages (from kubernetes>=28.1.0->chromadb) (2.17.3)\n",
            "Requirement already satisfied: websocket-client!=0.40.0,!=0.41.*,!=0.42.*,>=0.32.0 in /usr/local/lib/python3.10/dist-packages (from kubernetes>=28.1.0->chromadb) (1.7.0)\n",
            "Requirement already satisfied: requests-oauthlib in /usr/local/lib/python3.10/dist-packages (from kubernetes>=28.1.0->chromadb) (1.3.1)\n",
            "Requirement already satisfied: oauthlib>=3.2.2 in /usr/local/lib/python3.10/dist-packages (from kubernetes>=28.1.0->chromadb) (3.2.2)\n",
            "Collecting urllib3<2.0,>=1.24.2 (from kubernetes>=28.1.0->chromadb)\n",
            "  Downloading urllib3-1.26.18-py2.py3-none-any.whl (143 kB)\n",
            "\u001b[2K     \u001b[90m━━━━━━━━━━━━━━━━━━━━━━━━━━━━━━━━━━━━━━━━\u001b[0m \u001b[32m143.8/143.8 kB\u001b[0m \u001b[31m18.6 MB/s\u001b[0m eta \u001b[36m0:00:00\u001b[0m\n",
            "\u001b[?25hCollecting coloredlogs (from onnxruntime>=1.14.1->chromadb)\n",
            "  Downloading coloredlogs-15.0.1-py2.py3-none-any.whl (46 kB)\n",
            "\u001b[2K     \u001b[90m━━━━━━━━━━━━━━━━━━━━━━━━━━━━━━━━━━━━━━━━\u001b[0m \u001b[32m46.0/46.0 kB\u001b[0m \u001b[31m6.3 MB/s\u001b[0m eta \u001b[36m0:00:00\u001b[0m\n",
            "\u001b[?25hRequirement already satisfied: flatbuffers in /usr/local/lib/python3.10/dist-packages (from onnxruntime>=1.14.1->chromadb) (23.5.26)\n",
            "Requirement already satisfied: packaging in /usr/local/lib/python3.10/dist-packages (from onnxruntime>=1.14.1->chromadb) (23.2)\n",
            "Requirement already satisfied: protobuf in /usr/local/lib/python3.10/dist-packages (from onnxruntime>=1.14.1->chromadb) (3.20.3)\n",
            "Requirement already satisfied: sympy in /usr/local/lib/python3.10/dist-packages (from onnxruntime>=1.14.1->chromadb) (1.12)\n",
            "Collecting deprecated>=1.2.6 (from opentelemetry-api>=1.2.0->chromadb)\n",
            "  Downloading Deprecated-1.2.14-py2.py3-none-any.whl (9.6 kB)\n",
            "Collecting importlib-metadata<7.0,>=6.0 (from opentelemetry-api>=1.2.0->chromadb)\n",
            "  Downloading importlib_metadata-6.11.0-py3-none-any.whl (23 kB)\n",
            "Collecting backoff<3.0.0,>=1.10.0 (from opentelemetry-exporter-otlp-proto-grpc>=1.2.0->chromadb)\n",
            "  Downloading backoff-2.2.1-py3-none-any.whl (15 kB)\n",
            "Requirement already satisfied: googleapis-common-protos~=1.52 in /usr/local/lib/python3.10/dist-packages (from opentelemetry-exporter-otlp-proto-grpc>=1.2.0->chromadb) (1.62.0)\n",
            "Collecting opentelemetry-exporter-otlp-proto-common==1.22.0 (from opentelemetry-exporter-otlp-proto-grpc>=1.2.0->chromadb)\n",
            "  Downloading opentelemetry_exporter_otlp_proto_common-1.22.0-py3-none-any.whl (17 kB)\n",
            "Collecting opentelemetry-proto==1.22.0 (from opentelemetry-exporter-otlp-proto-grpc>=1.2.0->chromadb)\n",
            "  Downloading opentelemetry_proto-1.22.0-py3-none-any.whl (50 kB)\n",
            "\u001b[2K     \u001b[90m━━━━━━━━━━━━━━━━━━━━━━━━━━━━━━━━━━━━━━━━\u001b[0m \u001b[32m50.8/50.8 kB\u001b[0m \u001b[31m6.7 MB/s\u001b[0m eta \u001b[36m0:00:00\u001b[0m\n",
            "\u001b[?25hCollecting opentelemetry-instrumentation-asgi==0.42b0 (from opentelemetry-instrumentation-fastapi>=0.41b0->chromadb)\n",
            "  Downloading opentelemetry_instrumentation_asgi-0.42b0-py3-none-any.whl (13 kB)\n",
            "Collecting opentelemetry-instrumentation==0.42b0 (from opentelemetry-instrumentation-fastapi>=0.41b0->chromadb)\n",
            "  Downloading opentelemetry_instrumentation-0.42b0-py3-none-any.whl (25 kB)\n",
            "Collecting opentelemetry-semantic-conventions==0.42b0 (from opentelemetry-instrumentation-fastapi>=0.41b0->chromadb)\n",
            "  Downloading opentelemetry_semantic_conventions-0.42b0-py3-none-any.whl (36 kB)\n",
            "Collecting opentelemetry-util-http==0.42b0 (from opentelemetry-instrumentation-fastapi>=0.41b0->chromadb)\n",
            "  Downloading opentelemetry_util_http-0.42b0-py3-none-any.whl (6.9 kB)\n",
            "Requirement already satisfied: setuptools>=16.0 in /usr/local/lib/python3.10/dist-packages (from opentelemetry-instrumentation==0.42b0->opentelemetry-instrumentation-fastapi>=0.41b0->chromadb) (67.7.2)\n",
            "Requirement already satisfied: wrapt<2.0.0,>=1.0.0 in /usr/local/lib/python3.10/dist-packages (from opentelemetry-instrumentation==0.42b0->opentelemetry-instrumentation-fastapi>=0.41b0->chromadb) (1.14.1)\n",
            "Collecting asgiref~=3.0 (from opentelemetry-instrumentation-asgi==0.42b0->opentelemetry-instrumentation-fastapi>=0.41b0->chromadb)\n",
            "  Downloading asgiref-3.7.2-py3-none-any.whl (24 kB)\n",
            "INFO: pip is looking at multiple versions of opentelemetry-sdk to determine which version is compatible with other requirements. This could take a while.\n",
            "Collecting opentelemetry-instrumentation-fastapi>=0.41b0 (from chromadb)\n",
            "  Downloading opentelemetry_instrumentation_fastapi-0.41b0-py3-none-any.whl (11 kB)\n",
            "Collecting opentelemetry-instrumentation-asgi==0.41b0 (from opentelemetry-instrumentation-fastapi>=0.41b0->chromadb)\n",
            "  Downloading opentelemetry_instrumentation_asgi-0.41b0-py3-none-any.whl (13 kB)\n",
            "Collecting opentelemetry-instrumentation==0.41b0 (from opentelemetry-instrumentation-fastapi>=0.41b0->chromadb)\n",
            "  Downloading opentelemetry_instrumentation-0.41b0-py3-none-any.whl (25 kB)\n",
            "Collecting opentelemetry-semantic-conventions==0.41b0 (from opentelemetry-instrumentation-fastapi>=0.41b0->chromadb)\n",
            "  Downloading opentelemetry_semantic_conventions-0.41b0-py3-none-any.whl (26 kB)\n",
            "Collecting opentelemetry-util-http==0.41b0 (from opentelemetry-instrumentation-fastapi>=0.41b0->chromadb)\n",
            "  Downloading opentelemetry_util_http-0.41b0-py3-none-any.whl (6.9 kB)\n",
            "Collecting opentelemetry-exporter-otlp-proto-grpc>=1.2.0 (from chromadb)\n",
            "  Downloading opentelemetry_exporter_otlp_proto_grpc-1.21.0-py3-none-any.whl (18 kB)\n",
            "Collecting opentelemetry-sdk>=1.2.0 (from chromadb)\n",
            "  Downloading opentelemetry_sdk-1.21.0-py3-none-any.whl (105 kB)\n",
            "\u001b[2K     \u001b[90m━━━━━━━━━━━━━━━━━━━━━━━━━━━━━━━━━━━━━━━━\u001b[0m \u001b[32m105.3/105.3 kB\u001b[0m \u001b[31m12.8 MB/s\u001b[0m eta \u001b[36m0:00:00\u001b[0m\n",
            "\u001b[?25hCollecting opentelemetry-api>=1.2.0 (from chromadb)\n",
            "  Downloading opentelemetry_api-1.21.0-py3-none-any.whl (57 kB)\n",
            "\u001b[2K     \u001b[90m━━━━━━━━━━━━━━━━━━━━━━━━━━━━━━━━━━━━━━━━\u001b[0m \u001b[32m57.9/57.9 kB\u001b[0m \u001b[31m8.4 MB/s\u001b[0m eta \u001b[36m0:00:00\u001b[0m\n",
            "\u001b[?25hCollecting opentelemetry-exporter-otlp-proto-common==1.21.0 (from opentelemetry-exporter-otlp-proto-grpc>=1.2.0->chromadb)\n",
            "  Downloading opentelemetry_exporter_otlp_proto_common-1.21.0-py3-none-any.whl (17 kB)\n",
            "Collecting opentelemetry-proto==1.21.0 (from opentelemetry-exporter-otlp-proto-grpc>=1.2.0->chromadb)\n",
            "  Downloading opentelemetry_proto-1.21.0-py3-none-any.whl (50 kB)\n",
            "\u001b[2K     \u001b[90m━━━━━━━━━━━━━━━━━━━━━━━━━━━━━━━━━━━━━━━━\u001b[0m \u001b[32m50.8/50.8 kB\u001b[0m \u001b[31m5.7 MB/s\u001b[0m eta \u001b[36m0:00:00\u001b[0m\n",
            "\u001b[?25hCollecting monotonic>=1.5 (from posthog>=2.4.0->chromadb)\n",
            "  Downloading monotonic-1.6-py2.py3-none-any.whl (8.2 kB)\n",
            "Requirement already satisfied: charset-normalizer<4,>=2 in /usr/local/lib/python3.10/dist-packages (from requests>=2.28->chromadb) (3.3.2)\n",
            "Requirement already satisfied: idna<4,>=2.5 in /usr/local/lib/python3.10/dist-packages (from requests>=2.28->chromadb) (3.6)\n",
            "Requirement already satisfied: huggingface_hub<1.0,>=0.16.4 in /usr/local/lib/python3.10/dist-packages (from tokenizers>=0.13.2->chromadb) (0.19.4)\n",
            "Requirement already satisfied: click<9.0.0,>=7.1.1 in /usr/local/lib/python3.10/dist-packages (from typer>=0.9.0->chromadb) (8.1.7)\n",
            "Collecting h11>=0.8 (from uvicorn[standard]>=0.18.3->chromadb)\n",
            "  Downloading h11-0.14.0-py3-none-any.whl (58 kB)\n",
            "\u001b[2K     \u001b[90m━━━━━━━━━━━━━━━━━━━━━━━━━━━━━━━━━━━━━━━━\u001b[0m \u001b[32m58.3/58.3 kB\u001b[0m \u001b[31m8.4 MB/s\u001b[0m eta \u001b[36m0:00:00\u001b[0m\n",
            "\u001b[?25hCollecting httptools>=0.5.0 (from uvicorn[standard]>=0.18.3->chromadb)\n",
            "  Downloading httptools-0.6.1-cp310-cp310-manylinux_2_5_x86_64.manylinux1_x86_64.manylinux_2_17_x86_64.manylinux2014_x86_64.whl (341 kB)\n",
            "\u001b[2K     \u001b[90m━━━━━━━━━━━━━━━━━━━━━━━━━━━━━━━━━━━━━━━━\u001b[0m \u001b[32m341.4/341.4 kB\u001b[0m \u001b[31m37.9 MB/s\u001b[0m eta \u001b[36m0:00:00\u001b[0m\n",
            "\u001b[?25hCollecting python-dotenv>=0.13 (from uvicorn[standard]>=0.18.3->chromadb)\n",
            "  Downloading python_dotenv-1.0.0-py3-none-any.whl (19 kB)\n",
            "Collecting uvloop!=0.15.0,!=0.15.1,>=0.14.0 (from uvicorn[standard]>=0.18.3->chromadb)\n",
            "  Downloading uvloop-0.19.0-cp310-cp310-manylinux_2_17_x86_64.manylinux2014_x86_64.whl (3.4 MB)\n",
            "\u001b[2K     \u001b[90m━━━━━━━━━━━━━━━━━━━━━━━━━━━━━━━━━━━━━━━━\u001b[0m \u001b[32m3.4/3.4 MB\u001b[0m \u001b[31m67.7 MB/s\u001b[0m eta \u001b[36m0:00:00\u001b[0m\n",
            "\u001b[?25hCollecting watchfiles>=0.13 (from uvicorn[standard]>=0.18.3->chromadb)\n",
            "  Downloading watchfiles-0.21.0-cp310-cp310-manylinux_2_17_x86_64.manylinux2014_x86_64.whl (1.3 MB)\n",
            "\u001b[2K     \u001b[90m━━━━━━━━━━━━━━━━━━━━━━━━━━━━━━━━━━━━━━━━\u001b[0m \u001b[32m1.3/1.3 MB\u001b[0m \u001b[31m92.2 MB/s\u001b[0m eta \u001b[36m0:00:00\u001b[0m\n",
            "\u001b[?25hCollecting websockets>=10.4 (from uvicorn[standard]>=0.18.3->chromadb)\n",
            "  Downloading websockets-12.0-cp310-cp310-manylinux_2_5_x86_64.manylinux1_x86_64.manylinux_2_17_x86_64.manylinux2014_x86_64.whl (130 kB)\n",
            "\u001b[2K     \u001b[90m━━━━━━━━━━━━━━━━━━━━━━━━━━━━━━━━━━━━━━━━\u001b[0m \u001b[32m130.2/130.2 kB\u001b[0m \u001b[31m17.7 MB/s\u001b[0m eta \u001b[36m0:00:00\u001b[0m\n",
            "\u001b[?25hRequirement already satisfied: sniffio>=1.1 in /usr/local/lib/python3.10/dist-packages (from anyio<4.0.0,>=3.7.1->fastapi>=0.95.2->chromadb) (1.3.0)\n",
            "Requirement already satisfied: exceptiongroup in /usr/local/lib/python3.10/dist-packages (from anyio<4.0.0,>=3.7.1->fastapi>=0.95.2->chromadb) (1.2.0)\n",
            "Requirement already satisfied: cachetools<6.0,>=2.0.0 in /usr/local/lib/python3.10/dist-packages (from google-auth>=1.0.1->kubernetes>=28.1.0->chromadb) (5.3.2)\n",
            "Requirement already satisfied: pyasn1-modules>=0.2.1 in /usr/local/lib/python3.10/dist-packages (from google-auth>=1.0.1->kubernetes>=28.1.0->chromadb) (0.3.0)\n",
            "Requirement already satisfied: rsa<5,>=3.1.4 in /usr/local/lib/python3.10/dist-packages (from google-auth>=1.0.1->kubernetes>=28.1.0->chromadb) (4.9)\n",
            "Requirement already satisfied: filelock in /usr/local/lib/python3.10/dist-packages (from huggingface_hub<1.0,>=0.16.4->tokenizers>=0.13.2->chromadb) (3.13.1)\n",
            "Requirement already satisfied: fsspec>=2023.5.0 in /usr/local/lib/python3.10/dist-packages (from huggingface_hub<1.0,>=0.16.4->tokenizers>=0.13.2->chromadb) (2023.6.0)\n",
            "Requirement already satisfied: zipp>=0.5 in /usr/local/lib/python3.10/dist-packages (from importlib-metadata<7.0,>=6.0->opentelemetry-api>=1.2.0->chromadb) (3.17.0)\n",
            "Collecting humanfriendly>=9.1 (from coloredlogs->onnxruntime>=1.14.1->chromadb)\n",
            "  Downloading humanfriendly-10.0-py2.py3-none-any.whl (86 kB)\n",
            "\u001b[2K     \u001b[90m━━━━━━━━━━━━━━━━━━━━━━━━━━━━━━━━━━━━━━━━\u001b[0m \u001b[32m86.8/86.8 kB\u001b[0m \u001b[31m11.9 MB/s\u001b[0m eta \u001b[36m0:00:00\u001b[0m\n",
            "\u001b[?25hRequirement already satisfied: mpmath>=0.19 in /usr/local/lib/python3.10/dist-packages (from sympy->onnxruntime>=1.14.1->chromadb) (1.3.0)\n",
            "Requirement already satisfied: pyasn1<0.6.0,>=0.4.6 in /usr/local/lib/python3.10/dist-packages (from pyasn1-modules>=0.2.1->google-auth>=1.0.1->kubernetes>=28.1.0->chromadb) (0.5.1)\n",
            "Building wheels for collected packages: pypika\n",
            "  Building wheel for pypika (pyproject.toml) ... \u001b[?25l\u001b[?25hdone\n",
            "  Created wheel for pypika: filename=PyPika-0.48.9-py2.py3-none-any.whl size=53723 sha256=264b628e49388f42b3b4758134aa8c8d0e36b302eef76e5c509b79bdb0e627bd\n",
            "  Stored in directory: /root/.cache/pip/wheels/e1/26/51/d0bffb3d2fd82256676d7ad3003faea3bd6dddc9577af665f4\n",
            "Successfully built pypika\n",
            "Installing collected packages: pypika, monotonic, mmh3, websockets, uvloop, urllib3, typing-extensions, python-dotenv, pulsar-client, overrides, opentelemetry-util-http, opentelemetry-semantic-conventions, opentelemetry-proto, importlib-metadata, humanfriendly, httptools, h11, deprecated, chroma-hnswlib, bcrypt, backoff, watchfiles, uvicorn, starlette, opentelemetry-exporter-otlp-proto-common, opentelemetry-api, coloredlogs, asgiref, posthog, opentelemetry-sdk, opentelemetry-instrumentation, onnxruntime, fastapi, opentelemetry-instrumentation-asgi, opentelemetry-exporter-otlp-proto-grpc, kubernetes, opentelemetry-instrumentation-fastapi, chromadb\n",
            "  Attempting uninstall: urllib3\n",
            "    Found existing installation: urllib3 2.0.7\n",
            "    Uninstalling urllib3-2.0.7:\n",
            "      Successfully uninstalled urllib3-2.0.7\n",
            "  Attempting uninstall: typing-extensions\n",
            "    Found existing installation: typing_extensions 4.5.0\n",
            "    Uninstalling typing_extensions-4.5.0:\n",
            "      Successfully uninstalled typing_extensions-4.5.0\n",
            "  Attempting uninstall: importlib-metadata\n",
            "    Found existing installation: importlib-metadata 7.0.0\n",
            "    Uninstalling importlib-metadata-7.0.0:\n",
            "      Successfully uninstalled importlib-metadata-7.0.0\n",
            "\u001b[31mERROR: pip's dependency resolver does not currently take into account all the packages that are installed. This behaviour is the source of the following dependency conflicts.\n",
            "lida 0.0.10 requires kaleido, which is not installed.\n",
            "lida 0.0.10 requires python-multipart, which is not installed.\n",
            "tensorflow-probability 0.22.0 requires typing-extensions<4.6.0, but you have typing-extensions 4.9.0 which is incompatible.\u001b[0m\u001b[31m\n",
            "\u001b[0mSuccessfully installed asgiref-3.7.2 backoff-2.2.1 bcrypt-4.1.2 chroma-hnswlib-0.7.3 chromadb-0.4.20 coloredlogs-15.0.1 deprecated-1.2.14 fastapi-0.105.0 h11-0.14.0 httptools-0.6.1 humanfriendly-10.0 importlib-metadata-6.11.0 kubernetes-28.1.0 mmh3-4.0.1 monotonic-1.6 onnxruntime-1.16.3 opentelemetry-api-1.21.0 opentelemetry-exporter-otlp-proto-common-1.21.0 opentelemetry-exporter-otlp-proto-grpc-1.21.0 opentelemetry-instrumentation-0.42b0 opentelemetry-instrumentation-asgi-0.42b0 opentelemetry-instrumentation-fastapi-0.42b0 opentelemetry-proto-1.21.0 opentelemetry-sdk-1.21.0 opentelemetry-semantic-conventions-0.42b0 opentelemetry-util-http-0.42b0 overrides-7.4.0 posthog-3.1.0 pulsar-client-3.3.0 pypika-0.48.9 python-dotenv-1.0.0 starlette-0.27.0 typing-extensions-4.9.0 urllib3-1.26.18 uvicorn-0.24.0.post1 uvloop-0.19.0 watchfiles-0.21.0 websockets-12.0\n",
            "Collecting sentence_transformers\n",
            "  Downloading sentence-transformers-2.2.2.tar.gz (85 kB)\n",
            "\u001b[2K     \u001b[90m━━━━━━━━━━━━━━━━━━━━━━━━━━━━━━━━━━━━━━━━\u001b[0m \u001b[32m86.0/86.0 kB\u001b[0m \u001b[31m1.2 MB/s\u001b[0m eta \u001b[36m0:00:00\u001b[0m\n",
            "\u001b[?25h  Preparing metadata (setup.py) ... \u001b[?25l\u001b[?25hdone\n",
            "Requirement already satisfied: transformers<5.0.0,>=4.6.0 in /usr/local/lib/python3.10/dist-packages (from sentence_transformers) (4.35.2)\n",
            "Requirement already satisfied: tqdm in /usr/local/lib/python3.10/dist-packages (from sentence_transformers) (4.66.1)\n",
            "Requirement already satisfied: torch>=1.6.0 in /usr/local/lib/python3.10/dist-packages (from sentence_transformers) (2.1.0+cu121)\n",
            "Requirement already satisfied: torchvision in /usr/local/lib/python3.10/dist-packages (from sentence_transformers) (0.16.0+cu121)\n",
            "Requirement already satisfied: numpy in /usr/local/lib/python3.10/dist-packages (from sentence_transformers) (1.23.5)\n",
            "Requirement already satisfied: scikit-learn in /usr/local/lib/python3.10/dist-packages (from sentence_transformers) (1.2.2)\n",
            "Requirement already satisfied: scipy in /usr/local/lib/python3.10/dist-packages (from sentence_transformers) (1.11.4)\n",
            "Requirement already satisfied: nltk in /usr/local/lib/python3.10/dist-packages (from sentence_transformers) (3.8.1)\n",
            "Collecting sentencepiece (from sentence_transformers)\n",
            "  Downloading sentencepiece-0.1.99-cp310-cp310-manylinux_2_17_x86_64.manylinux2014_x86_64.whl (1.3 MB)\n",
            "\u001b[2K     \u001b[90m━━━━━━━━━━━━━━━━━━━━━━━━━━━━━━━━━━━━━━━━\u001b[0m \u001b[32m1.3/1.3 MB\u001b[0m \u001b[31m9.7 MB/s\u001b[0m eta \u001b[36m0:00:00\u001b[0m\n",
            "\u001b[?25hRequirement already satisfied: huggingface-hub>=0.4.0 in /usr/local/lib/python3.10/dist-packages (from sentence_transformers) (0.19.4)\n",
            "Requirement already satisfied: filelock in /usr/local/lib/python3.10/dist-packages (from huggingface-hub>=0.4.0->sentence_transformers) (3.13.1)\n",
            "Requirement already satisfied: fsspec>=2023.5.0 in /usr/local/lib/python3.10/dist-packages (from huggingface-hub>=0.4.0->sentence_transformers) (2023.6.0)\n",
            "Requirement already satisfied: requests in /usr/local/lib/python3.10/dist-packages (from huggingface-hub>=0.4.0->sentence_transformers) (2.31.0)\n",
            "Requirement already satisfied: pyyaml>=5.1 in /usr/local/lib/python3.10/dist-packages (from huggingface-hub>=0.4.0->sentence_transformers) (6.0.1)\n",
            "Requirement already satisfied: typing-extensions>=3.7.4.3 in /usr/local/lib/python3.10/dist-packages (from huggingface-hub>=0.4.0->sentence_transformers) (4.9.0)\n",
            "Requirement already satisfied: packaging>=20.9 in /usr/local/lib/python3.10/dist-packages (from huggingface-hub>=0.4.0->sentence_transformers) (23.2)\n",
            "Requirement already satisfied: sympy in /usr/local/lib/python3.10/dist-packages (from torch>=1.6.0->sentence_transformers) (1.12)\n",
            "Requirement already satisfied: networkx in /usr/local/lib/python3.10/dist-packages (from torch>=1.6.0->sentence_transformers) (3.2.1)\n",
            "Requirement already satisfied: jinja2 in /usr/local/lib/python3.10/dist-packages (from torch>=1.6.0->sentence_transformers) (3.1.2)\n",
            "Requirement already satisfied: triton==2.1.0 in /usr/local/lib/python3.10/dist-packages (from torch>=1.6.0->sentence_transformers) (2.1.0)\n",
            "Requirement already satisfied: regex!=2019.12.17 in /usr/local/lib/python3.10/dist-packages (from transformers<5.0.0,>=4.6.0->sentence_transformers) (2023.6.3)\n",
            "Requirement already satisfied: tokenizers<0.19,>=0.14 in /usr/local/lib/python3.10/dist-packages (from transformers<5.0.0,>=4.6.0->sentence_transformers) (0.15.0)\n",
            "Requirement already satisfied: safetensors>=0.3.1 in /usr/local/lib/python3.10/dist-packages (from transformers<5.0.0,>=4.6.0->sentence_transformers) (0.4.1)\n",
            "Requirement already satisfied: click in /usr/local/lib/python3.10/dist-packages (from nltk->sentence_transformers) (8.1.7)\n",
            "Requirement already satisfied: joblib in /usr/local/lib/python3.10/dist-packages (from nltk->sentence_transformers) (1.3.2)\n",
            "Requirement already satisfied: threadpoolctl>=2.0.0 in /usr/local/lib/python3.10/dist-packages (from scikit-learn->sentence_transformers) (3.2.0)\n",
            "Requirement already satisfied: pillow!=8.3.*,>=5.3.0 in /usr/local/lib/python3.10/dist-packages (from torchvision->sentence_transformers) (9.4.0)\n",
            "Requirement already satisfied: MarkupSafe>=2.0 in /usr/local/lib/python3.10/dist-packages (from jinja2->torch>=1.6.0->sentence_transformers) (2.1.3)\n",
            "Requirement already satisfied: charset-normalizer<4,>=2 in /usr/local/lib/python3.10/dist-packages (from requests->huggingface-hub>=0.4.0->sentence_transformers) (3.3.2)\n",
            "Requirement already satisfied: idna<4,>=2.5 in /usr/local/lib/python3.10/dist-packages (from requests->huggingface-hub>=0.4.0->sentence_transformers) (3.6)\n",
            "Requirement already satisfied: urllib3<3,>=1.21.1 in /usr/local/lib/python3.10/dist-packages (from requests->huggingface-hub>=0.4.0->sentence_transformers) (1.26.18)\n",
            "Requirement already satisfied: certifi>=2017.4.17 in /usr/local/lib/python3.10/dist-packages (from requests->huggingface-hub>=0.4.0->sentence_transformers) (2023.11.17)\n",
            "Requirement already satisfied: mpmath>=0.19 in /usr/local/lib/python3.10/dist-packages (from sympy->torch>=1.6.0->sentence_transformers) (1.3.0)\n",
            "Building wheels for collected packages: sentence_transformers\n",
            "  Building wheel for sentence_transformers (setup.py) ... \u001b[?25l\u001b[?25hdone\n",
            "  Created wheel for sentence_transformers: filename=sentence_transformers-2.2.2-py3-none-any.whl size=125923 sha256=e49e93e3d21047062707aa8586acb19d9579be92a608c77169b6777c89e8eb18\n",
            "  Stored in directory: /root/.cache/pip/wheels/62/f2/10/1e606fd5f02395388f74e7462910fe851042f97238cbbd902f\n",
            "Successfully built sentence_transformers\n",
            "Installing collected packages: sentencepiece, sentence_transformers\n",
            "Successfully installed sentence_transformers-2.2.2 sentencepiece-0.1.99\n"
          ]
        }
      ]
    },
    {
      "cell_type": "code",
      "source": [
        "from langchain.document_loaders import TextLoader\n",
        "from langchain.text_splitter import CharacterTextSplitter\n",
        "from langchain.vectorstores import Chroma\n",
        "from langchain.chains import RetrievalQA\n",
        "from langchain.embeddings.sentence_transformer import SentenceTransformerEmbeddings"
      ],
      "metadata": {
        "id": "ekV9yaKK-uuz"
      },
      "execution_count": 2,
      "outputs": []
    },
    {
      "cell_type": "code",
      "source": [
        "import os\n",
        "os.environ[\"OPENAI_API_KEY\"] = 'YOUR_API_KEY'"
      ],
      "metadata": {
        "id": "cZvHGkrsDhho"
      },
      "execution_count": 10,
      "outputs": []
    },
    {
      "cell_type": "markdown",
      "source": [
        "# **Document Loaders**\n",
        "**Load dcouments from many different sources**"
      ],
      "metadata": {
        "id": "QRpOUDqP_Q6G"
      }
    },
    {
      "cell_type": "code",
      "source": [
        "loader = TextLoader('sample.txt')\n",
        "documents = loader.load()"
      ],
      "metadata": {
        "id": "7eHhqcsw_ZXU"
      },
      "execution_count": 4,
      "outputs": []
    },
    {
      "cell_type": "code",
      "source": [
        "len(documents)"
      ],
      "metadata": {
        "colab": {
          "base_uri": "https://localhost:8080/"
        },
        "id": "mKxRUcD8BxOd",
        "outputId": "0b184ef3-2b09-4ef3-d0ce-5b297329673b"
      },
      "execution_count": 5,
      "outputs": [
        {
          "output_type": "execute_result",
          "data": {
            "text/plain": [
              "1"
            ]
          },
          "metadata": {},
          "execution_count": 5
        }
      ]
    },
    {
      "cell_type": "markdown",
      "source": [
        "# **Document Transformers**\n",
        "\n",
        "**Split document and drop redundantn documents**"
      ],
      "metadata": {
        "id": "DrNBeMZUB1BJ"
      }
    },
    {
      "cell_type": "code",
      "source": [
        "text_splitter = CharacterTextSplitter(chunk_size=200, chunk_overlap=0)\n",
        "texts = text_splitter.split_documents(documents)"
      ],
      "metadata": {
        "id": "JGk3fFgzB9nI"
      },
      "execution_count": null,
      "outputs": []
    },
    {
      "cell_type": "code",
      "source": [
        "len(texts)"
      ],
      "metadata": {
        "colab": {
          "base_uri": "https://localhost:8080/"
        },
        "id": "6T0xZhpaCmW-",
        "outputId": "6169b1c0-b4ab-405b-f5bd-8b57a8ba7890"
      },
      "execution_count": 7,
      "outputs": [
        {
          "output_type": "execute_result",
          "data": {
            "text/plain": [
              "199"
            ]
          },
          "metadata": {},
          "execution_count": 7
        }
      ]
    },
    {
      "cell_type": "code",
      "source": [
        "texts"
      ],
      "metadata": {
        "colab": {
          "base_uri": "https://localhost:8080/"
        },
        "id": "tmVVDjCYDD-o",
        "outputId": "7df9b258-98a8-4518-d280-2d09fe129978"
      },
      "execution_count": 9,
      "outputs": [
        {
          "output_type": "execute_result",
          "data": {
            "text/plain": [
              "[Document(page_content=\"Kenya, officially the Republic of Kenya (Swahili: Jamhuri ya Kenya), is a country in East Africa. A member of the Commonwealth with a population of more than 47.6 million in the 2019 census,[12] Kenya is the 28th most populous country in the world[7] and 7th most populous in Africa. Kenya's capital and largest city is Nairobi, while its oldest and second largest city, which until 1907 was also Kenya's first capital city, is the major port city of Mombasa which includes Mombasa Island in the Indian Ocean and the surrounding mainland. Other important cities include Kisumu and Nakuru. Kenya is bordered by South Sudan to the northwest, Ethiopia to the north, Somalia to the east, Uganda to the west, Tanzania to the south, and the Indian Ocean to the southeast. Kenya's geography, climate and population vary widely, ranging from cold snow-capped mountaintops (Batian, Nelion and Point Lenana on Mount Kenya) with vast surrounding forests, wildlife and fertile agricultural regions to temperate climates in western and rift valley counties and further on to dry less fertile arid and semi-arid areas and absolute deserts (Chalbi Desert and Nyiri Desert).\", metadata={'source': 'sample.txt'}),\n",
              " Document(page_content=\"Kenya's earliest inhabitants were hunter-gatherers, like the present-day Hadza people.[13][14] According to archaeological dating of associated artifacts and skeletal material, Cushitic speakers first settled in Kenya's lowlands between 3,200 and 1,300 BC, a phase known as the Lowland Savanna Pastoral Neolithic. Nilotic-speaking pastoralists (ancestral to Kenya's Nilotic speakers) began migrating from present-day South Sudan into Kenya around 500 BC.[15] Bantu people settled at the coast and the interior between 250 BC and 500 AD.[16]\", metadata={'source': 'sample.txt'}),\n",
              " Document(page_content='European contact began in 1500 AD with the Portuguese Empire, and effective colonisation of Kenya began in the 19th century during the European exploration of the interior. Modern-day Kenya emerged from a protectorate established by the British Empire in 1895 and the subsequent Kenya Colony, which began in 1920. Numerous disputes between the UK and the colony led to the Mau Mau revolution, which began in 1952, and the declaration of independence in 1963. After independence, Kenya remained a member of the Commonwealth of Nations. The current constitution was adopted in 2010 and replaced the 1963 independence constitution.', metadata={'source': 'sample.txt'}),\n",
              " Document(page_content=\"Kenya is a presidential representative democratic republic, in which elected officials represent the people and the president is the head of state and government.[17] Kenya is a member of the United Nations, Commonwealth of Nations, World Bank, International Monetary Fund, COMESA, International Criminal Court, as well as other international organisations. With a GNI of 1,840,[18] Kenya is a lower-middle-income economy. Kenya's economy is the second largest in eastern and central Africa, after Ethiopia, with Nairobi serving as a major regional commercial hub.[19] Agriculture is the largest sector; tea and coffee are traditional cash crops, while fresh flowers are a fast-growing export. The service industry is also a major economic driver, particularly tourism. Kenya is a member of the East African Community trade bloc, though some international trade organisations categorise it as part of the Greater Horn of Africa.[20] Africa is Kenya's largest export market, followed by the European Union.[21]\", metadata={'source': 'sample.txt'}),\n",
              " Document(page_content='Etymology\\nThe Republic of Kenya is named after Mount Kenya. The earliest recorded version of the modern name was written by German explorer Johann Ludwig Krapf in the 19th century. While travelling with a Kamba caravan led by the long-distance trader Chief Kivoi, Krapf spotted the mountain peak and asked what it was called. Kivoi told him \"Kĩ-Nyaa\" or \"Kĩĩma- Kĩĩnyaa\", probably because the pattern of black rock and white snow on its peaks reminded him of the feathers of the male ostrich.[22] In archaic Kikuyu the word \\'nyaga\\' or more commonly \\'manyaganyaga\\' is used to describe an extremely bright object. The Agikuyu, who inhabit the slopes of Mt. Kenya, call it Kĩrĩma Kĩrĩnyaga (literally \\'the mountain with brightness\\') in Kikuyu, while the Embu call it \"Kirenyaa\". All three names have the same meaning.[23]', metadata={'source': 'sample.txt'}),\n",
              " Document(page_content=\"Ludwig Krapf recorded the name as both Kenia and Kegnia.[24][25][26] Some have said that this was a precise notation of the African pronunciation /ˈkɛnjə/.[27] An 1882 map drawn by Joseph Thompsons, a Scottish geologist and naturalist, indicated Mt. Kenya as Mt. Kenia.[22] The mountain's name was accepted, pars pro toto, as the name of the country. It did not come into widespread official use during the early colonial period, when the country was referred to as the East African Protectorate. The official name was changed to the Colony of Kenya in 1920.\", metadata={'source': 'sample.txt'}),\n",
              " Document(page_content='History\\nMain article: History of Kenya\\nFor a chronological guide, see Timeline of Kenya.\\nHuman prehistory', metadata={'source': 'sample.txt'}),\n",
              " Document(page_content='The Turkana boy, a 1.6-million-year-old hominid fossil belonging to Homo erectus\\nHominids such as Homo habilis (1.8 to 2.5 million years ago) and Homo erectus (1.9 million to 350,000 years ago) are possible direct ancestors of modern Homo sapiens, and lived in Kenya in the Pleistocene epoch.[28] During excavations at Lake Turkana in 1984, paleoanthropologist Richard Leakey, assisted by Kamoya Kimeu, discovered the Turkana Boy, a 1.6-million-year-old Homo erectus fossil. East Africa, including Kenya, is one of the earliest regions where modern humans (Homo sapiens) are believed to have lived. Evidence was found in 2018, dating to about 320,000 years ago, of the early emergence of modern behaviours, including long-distance trade networks (involving goods such as obsidian), the use of pigments, and the possible making of projectile points. The authors of three 2018 studies on the site suggest that complex and modern behaviours had already begun in Africa around the time of the emergence of Homo sapiens.[29][30][31]', metadata={'source': 'sample.txt'}),\n",
              " Document(page_content=\"Neolithic\\nThe first inhabitants of present-day Kenya were hunter-gatherer groups, akin to the modern Khoisan speakers.[32] These people were later largely replaced by agropastoralist Cushitic (ancestral to Kenya's Cushitic speakers) from the Horn of Africa.[33] During the early Holocene, the regional climate shifted from dry to wetter conditions, providing an opportunity for the development of cultural traditions such as agriculture and herding, in a more favourable environment.[32]\", metadata={'source': 'sample.txt'}),\n",
              " Document(page_content=\"Around 500 BC, Nilotic-speaking pastoralists (ancestral to Kenya's Nilotic speakers) started migrating from present-day southern Sudan into Kenya.[15][34][35] Nilotic groups in Kenya include the Kalenjin, Samburu, Luo, Turkana, and Maasai.[36]\", metadata={'source': 'sample.txt'}),\n",
              " Document(page_content='By the first millennium AD, Bantu-speaking farmers had moved into the region, initially along the coast.[37] The Bantus originated in West Africa along the Benue River in what is now eastern Nigeria and western Cameroon.[38] The Bantu migration brought new developments in agriculture and ironworking to the region.[38] Bantu groups in Kenya include the Kikuyu, Luhya, Kamba, Kisii, Meru, Kuria, Aembu, Ambeere, Wadawida-Watuweta, Wapokomo, and Mijikenda, among others.', metadata={'source': 'sample.txt'}),\n",
              " Document(page_content='Notable prehistoric sites in the interior of Kenya include the (possibly archaeoastronomical) site Namoratunga on the west side of Lake Turkana and the walled settlement of Thimlich Ohinga in Migori County.', metadata={'source': 'sample.txt'}),\n",
              " Document(page_content='Swahili trade period\\nFurther information: Swahili culture and Sultanate of Zanzibar', metadata={'source': 'sample.txt'}),\n",
              " Document(page_content='A traditional Swahili carved wooden door in Lamu\\nThe Kenyan coast had served as host to communities of ironworkers and Bantu subsistence farmers, hunters, and fishers who supported the economy with agriculture, fishing, metal production, and trade with foreign countries. These communities formed the earliest city-states in the region, which were collectively known as Azania.[39]', metadata={'source': 'sample.txt'}),\n",
              " Document(page_content='By the 1st century CE, many of the city-states such as Mombasa, Malindi, and Zanzibar began to establish trading relations with Arabs. This led to the increased economic growth of the Swahili states, the introduction of Islam, Arabic influences on the Swahili Bantu language, cultural diffusion, as well as the Swahili city-states becoming members of a larger trade network.[40][41] Many historians had long believed that the city-states were established by Arab or Persian traders, but archaeological evidence has led scholars to recognise the city-states as an indigenous development which, though subjected to foreign influence due to trade, retained a Bantu cultural core.[42]', metadata={'source': 'sample.txt'}),\n",
              " Document(page_content='DNA evidence has found that the Swahili people were of mixed African and Asian (particularly Persian) ancestry.[43] The Kilwa Sultanate was a medieval sultanate centred at Kilwa, in modern-day Tanzania. At its height, its authority stretched over the entire length of the Swahili Coast, including Kenya.[44] Since the 10th century, rulers of Kilwa would go on to build elaborate coral mosques and introduce copper coinage.[45]', metadata={'source': 'sample.txt'}),\n",
              " Document(page_content='Swahili, a Bantu language with Arabic, Persian, and other Middle-Eastern and South Asian loanwords, later developed as a lingua franca for trade between the different peoples.[39] Since the turn of the 20th century, Swahili has adopted numerous loanwords and calques from English, many of them originating during English colonial rule.[46]', metadata={'source': 'sample.txt'}),\n",
              " Document(page_content='Early Portuguese colonization', metadata={'source': 'sample.txt'}),\n",
              " Document(page_content='Portuguese presence in Kenya lasted from 1498 until 1730. Mombasa was under Portuguese rule from 1593 to 1698 and again from 1728 to 1729.\\nThe Swahili built Mombasa into a major port city and established trade links with other nearby city-states, as well as commercial centres in Persia, Arabia, and even India.[47] By the 15th-century, Portuguese voyager Duarte Barbosa claimed that \"Mombasa is a place of great traffic and has a good harbour in which there are always moored small craft of many kinds and also great ships, both of which are bound from Sofala and others which come from Cambay and Melinde and others which sail to the island of Zanzibar.\"[48]', metadata={'source': 'sample.txt'}),\n",
              " Document(page_content='In the 17th century, the Swahili coast was conquered and came under the direct rule of the Omani Arabs, who expanded the slave trade to meet the demands of plantations in Oman and Zanzibar.[49] Initially, these traders came mainly from Oman, but later many came from Zanzibar (such as Tippu Tip).[50] In addition, the Portuguese started buying slaves from the Omani and Zanzibari traders in response to the interruption of the transatlantic slave trade by British abolitionists.', metadata={'source': 'sample.txt'}),\n",
              " Document(page_content=\"Throughout the centuries, the Kenyan coast has played host to many merchants and explorers. Among the cities that line the Kenyan coast is Malindi. It has remained an important Swahili settlement since the 14th century and once rivalled Mombasa for dominance in the African Great Lakes region. Malindi has traditionally been a friendly port city for foreign powers. In 1414, the Chinese trader and explorer Zheng He, representing the Ming Dynasty, visited the East African coast on one of his last 'treasure voyages'.[51] Malindi authorities also welcomed the Portuguese explorer Vasco da Gama in 1498.\", metadata={'source': 'sample.txt'}),\n",
              " Document(page_content=\"18th and 19th centuries\\nDuring the 18th and 19th century C.E, the Masai people moved into what is now modern-day central Kenya, from a region north of Lake Rudolf (now Lake Turkana). Although there were not many, they managed to conquer a great amount of Bantu-speaking peoples, who did not put up much resistance. The Nandi peoples managed to oppose the Masai, while the Taveta peoples fled to the forests on the eastern edge of Mount Kilimanjaro, along with the Kikuyu peoples, although they later were forced to leave the land due to the threat of smallpox. An outbreak of either rinderpest or pleuropneumonia greatly affected the Masai's cattle, while an epidemic of smallpox affected the Masai themselves. After the death of the Masai Mbatian, the chief laibon (medicine man), the Masai split into warring factions. There was much strife between the Nilotic (Masai) and Bantu peoples; however, cooperation between such groups as the Luo people, Luhya people, and Gusii people is evinced by shared vocabulary for modern implements and similar economic regimes.[52] Although Arab traders remained in the area, trade routes were disrupted by the hostile Masai, though there was trade in ivory between these factions.[53] The first foreigners to successfully get past the Masai were Johann Ludwig Krapf and Johannes Rebmann, two German missionaries who established a mission in Rabai, not too far from Mombasa. The pair were the first Europeans to sight Mount Kenya.[54]\", metadata={'source': 'sample.txt'}),\n",
              " Document(page_content=\"German Protectorate (1885–1890)\\nThe colonial history of Kenya dates from the establishment of a German Empire protectorate over the Sultan of Zanzibar's coastal possessions in 1885, followed by the arrival of the Imperial British East Africa Company in 1888. Imperial rivalry was prevented by the Heligoland–Zanzibar Treaty, Germany handed its East African coastal holdings to Britain in 1890.\", metadata={'source': 'sample.txt'}),\n",
              " Document(page_content='British Kenya (1888–1962)\\nMain article: Kenya Colony\\n\\nBritish East Africa in 1909\\nThe transfer by Germany to Britain was followed by the building of the Uganda Railway passing through the country.[55]', metadata={'source': 'sample.txt'}),\n",
              " Document(page_content='The building of the railway was resisted by some ethnic groups—notably the Nandi, led by Orkoiyot Koitalel Arap Samoei from 1890 to 1900—but the British eventually built it. The Nandi were the first ethnic group to be put in a native reserve to stop them from disrupting the building of the railway.[55]', metadata={'source': 'sample.txt'}),\n",
              " Document(page_content='During the railway construction era, there was a significant influx of Indian workers, who provided the bulk of the skilled manpower required for construction.[56] They and most of their descendants later remained in Kenya and formed the core of several distinct Indian communities, such as the Ismaili Muslim and Sikh communities. While building the railway through Tsavo, a number of the Indian railway workers and local African labourers were attacked by two lions known as the Tsavo maneaters.[57]', metadata={'source': 'sample.txt'}),\n",
              " Document(page_content='At the outbreak of World War I in August 1914, the governors of British East Africa (as the protectorate was generally known) and German East Africa initially agreed on a truce in an attempt to keep the young colonies out of direct hostilities. But Lieutenant Colonel Paul von Lettow-Vorbeck, the German military commander, determined to tie down as many British resources as possible. Completely cut off from Germany, Lettow-Vorbeck conducted an effective guerrilla warfare campaign, living off the land, capturing British supplies, and remaining undefeated. He eventually surrendered in Northern Rhodesia (today Zambia) 14 days after the Armistice was signed in 1918.[56]', metadata={'source': 'sample.txt'}),\n",
              " Document(page_content='The Kenya–Uganda Railway near Mombasa, about 1899\\nTo chase von Lettow, the British deployed the British Indian Army troops from India but needed large numbers of porters to overcome the formidable logistics of transporting supplies far into the interior on foot. The Carrier Corps was formed and ultimately mobilised over 400,000 Africans, contributing to their long-term politicisation.[56]', metadata={'source': 'sample.txt'}),\n",
              " Document(page_content='In 1920, the East Africa Protectorate was turned into a colony and renamed Kenya after its highest mountain.[55]', metadata={'source': 'sample.txt'}),\n",
              " Document(page_content=\"During the early part of the 20th century, the interior central highlands were settled by British and other European farmers, who became wealthy farming coffee and tea.[58] One depiction of this period of change from a colonist's perspective is found in the memoir Out of Africa by Danish author Baroness Karen von Blixen-Finecke, published in 1937. By the 1930s, approximately 30,000 white settlers lived in the area and gained a political voice because of their contribution to the market economy.[56]\", metadata={'source': 'sample.txt'}),\n",
              " Document(page_content='The central highlands were already home to over a million members of the Kikuyu people, most of whom had no land claims in European terms and lived as itinerant farmers. To protect their interests, the settlers banned the growing of coffee and introduced a hut tax, and the landless were granted less and less land in exchange for their labour. A massive exodus to the cities ensued as their ability to make a living from the land dwindled.[56] By the 1950s, there were 80,000 white settlers living in Kenya.[59]', metadata={'source': 'sample.txt'}),\n",
              " Document(page_content='Throughout World War II, Kenya was an important source of manpower and agriculture for the United Kingdom. Kenya itself was the site of fighting between Allied forces and Italian troops in 1940–41, when Italian forces invaded. Wajir and Malindi were bombed as well.', metadata={'source': 'sample.txt'}),\n",
              " Document(page_content='Mau Mau Uprising\\nFurther information: Mau Mau Uprising', metadata={'source': 'sample.txt'}),\n",
              " Document(page_content=\"A statue of Dedan Kimathi, a Kenyan rebel leader with the Mau Mau who fought against the British colonial system in the 1950s\\nFrom October 1952 to December 1959, Kenya was in a state of emergency arising from the Mau Mau rebellion against British rule. The Mau Mau, also known as the Kenya Land and Freedom Army, were primarily Kikuyu people. During the colonial administration's crackdown, over 11,000 rebel fighters had been killed, along with 100 British troops and 2,000 Kenyan loyalist soldiers. War crimes were committed on both sides of the conflict, including the publicised Lari massacre and the Hola massacre. The governor requested and obtained British and African troops, including the King's African Rifles. The British began counter-insurgency operations. In May 1953, General Sir George Erskine took charge as commander-in-chief of the colony's armed forces, with the personal backing of Winston Churchill.[60]\", metadata={'source': 'sample.txt'}),\n",
              " Document(page_content='The capture of Waruhiu Itote (nom de guerre \"General China\") on 15 January 1954 and the subsequent interrogation led to a better understanding of the Mau Mau command structure for the British. Operation Anvil opened on 24 April 1954, after weeks of planning by the army with the approval of the War Council. The operation effectively placed Nairobi under military siege. Nairobi\\'s occupants were screened and suspected Mau Mau supporters moved to detention camps. More than 80,000 Kikuyu were held in detention camps without trial, often subject to brutal treatment.[61] The Home Guard formed the core of the government\\'s strategy as it was composed of loyalist Africans, not foreign forces such as the British Army and King\\'s African Rifles.[62]', metadata={'source': 'sample.txt'}),\n",
              " Document(page_content='The capture of Dedan Kimathi on 21 October 1956 in Nyeri signified the ultimate defeat of the Mau Mau and essentially ended the military offensive.[60] During this period, substantial governmental changes to land tenure occurred. The most important of these was the Swynnerton Plan, which was used to both reward loyalists and punish Mau Mau. This left roughly 1/3rd of Kikuyu bereft of any tenancy land arrangement and thus propertyless at the time of independence.[63]', metadata={'source': 'sample.txt'}),\n",
              " Document(page_content=\"Somalis of Kenya referendum, 1962\\nFurther information: Somalis in Kenya\\nBefore Kenya got its independence, Somali ethnic people in present-day Kenya in the areas of Northern Frontier Districts petitioned Her Majesty's Government not to be included in Kenya. The colonial government decided to hold Kenya's first referendum in 1962 to check the willingness of Somalis in Kenya to join Somalia.[64]\", metadata={'source': 'sample.txt'}),\n",
              " Document(page_content='The result of the referendum showed that 86% of Somalis in Kenya wanted to join Somalia, but the British colonial administration rejected the result and the Somalis remained in Kenya.[65][66]', metadata={'source': 'sample.txt'}),\n",
              " Document(page_content='Independence\\n\\nThe first president and founding father of Kenya, Jomo Kenyatta\\nThe first direct elections for native Kenyans to the Legislative Council took place in 1957.', metadata={'source': 'sample.txt'}),\n",
              " Document(page_content='Despite British hopes of handing power to \"moderate\" local rivals, it was the Kenya African National Union (KANU) of Jomo Kenyatta that formed a government. The Colony of Kenya and the Protectorate of Kenya each came to an end on 12 December 1963, with independence conferred on all of Kenya. The U.K. ceded sovereignty over the Colony of Kenya. The Sultan of Zanzibar agreed that simultaneous with independence for the colony, he would cease to have sovereignty over the Protectorate of Kenya so that all of Kenya would become one sovereign state.[67][68] In this way, Kenya became an independent country under the Kenya Independence Act 1963 of the United Kingdom. On 12 December 1964, Kenya became a republic under the name \"Republic of Kenya\".[67]', metadata={'source': 'sample.txt'}),\n",
              " Document(page_content='Concurrently, the Kenyan army fought the Shifta War against ethnic Somali rebels inhabiting the Northern Frontier District who wanted to join their kin in the Somali Republic to the north.[69] A ceasefire was eventually reached with the signing of the Arusha Memorandum in October 1967, but relative insecurity prevailed through 1969.[70][71] To discourage further invasions, Kenya signed a defence pact with Ethiopia in 1969, which is still in effect.[72][73]', metadata={'source': 'sample.txt'}),\n",
              " Document(page_content=\"First presidency\\nFurther information: Presidency of Jomo Kenyatta and Jomo Kenyatta\\nOn 12 December 1964, the Republic of Kenya was proclaimed, and Jomo Kenyatta became Kenya's first president.[74] Under Kenyatta, corruption became widespread throughout the government, civil service, and business community. Kenyatta and his family were tied up with this corruption as they enriched themselves through the mass purchase of property after 1963. Their acquisitions in the Central, Rift Valley, and Coast Provinces aroused great anger among landless Kenyans. His family used his presidential position to circumvent legal or administrative obstacles to acquiring property. The Kenyatta family also heavily invested in the coastal hotel business, with Kenyatta personally owning the Leonard Beach Hotel.[75]\", metadata={'source': 'sample.txt'}),\n",
              " Document(page_content=\"Kenyatta's mixed legacy was highlighted at the 10-year anniversary of Kenya's independence. A December 1973 article in The New York Times praised Kenyatta's leadership and Kenya for emerging as a model of pragmatism and conservatism. Kenya's GDP had increased at an annual rate of 6.6%, higher than the population growth rate of more than 3%.[76] But Amnesty International responded to the article by stating the cost of the stability in terms of human rights abuses. The opposition party started by Oginga Odinga—Kenya People's Union (KPU)—was banned in 1969 after the Kisumu Massacre and KPU leaders were still in detention without trial in gross violation of the U.N. Declaration of Human Rights.[77][78] The Kenya Students Union, Jehovah Witnesses and all opposition parties were outlawed.[77] Kenyatta ruled until his death on 22 August 1978.[79]\", metadata={'source': 'sample.txt'}),\n",
              " Document(page_content='Moi era', metadata={'source': 'sample.txt'}),\n",
              " Document(page_content=\"Daniel arap Moi, Kenya's second President, and George W. Bush, 2001\\nFurther information: Daniel arap Moi, Presidency of Daniel Moi, 1978 Kenyan presidential election, 1988 Kenyan general election, and 1992 Kenyan general election\\nAfter Kenyatta died, Daniel arap Moi became president. He retained the presidency, running unopposed in elections held in 1979, 1983 (snap elections), and 1988, all of which were held under the single-party constitution. The 1983 elections were held a year early, and were a direct result of a failed military coup on 2 August 1982.\", metadata={'source': 'sample.txt'}),\n",
              " Document(page_content='The 1982 coup was masterminded by a low-ranking Air Force serviceman, Senior Private Hezekiah Ochuka, and was staged mainly by enlisted men of the Air Force. It was quickly suppressed by forces commanded by Chief of General Staff Mahamoud Mohamed, a veteran Somali military official.[80] They included the General Service Unit (GSU)—a paramilitary wing of the police—and later the regular police.', metadata={'source': 'sample.txt'}),\n",
              " Document(page_content='On the heels of the Garissa Massacre of 1980, Kenyan troops committed the Wagalla massacre in 1984 against thousands of civilians in Wajir County. An official probe into the atrocities was later ordered in 2011.[81][clarification needed]', metadata={'source': 'sample.txt'}),\n",
              " Document(page_content='The election held in 1988 saw the advent of the mlolongo (queuing) system, where voters were supposed to line up behind their favoured candidates instead of casting a secret ballot.[82] This was seen as the climax of a very undemocratic regime and led to widespread agitation for constitutional reform. Several contentious clauses, including the one that allowed for only one political party, were changed in the following years.[83]', metadata={'source': 'sample.txt'}),\n",
              " Document(page_content=\"Transition to multiparty democracy\\nIn 1991, Kenya transitioned to a multiparty political system after 26 years of single-party rule. On 28 October 1992, Moi dissolved parliament, five months before the end of his term. As a result, preparations began for all elective seats in parliament as well as the president. The election was scheduled to take place on 7 December 1992, but delays led to its postponement to 29 December. Apart from KANU, the ruling party, other parties represented in the elections included FORD Kenya and FORD Asili. This election was marked by large-scale intimidation of opponents and harassment of election officials. It resulted in an economic crisis propagated by ethnic violence as the president was accused of rigging electoral results to retain power.[84][85][86] This election was a turning point for Kenya as it signified the beginning of the end of Moi's leadership and the rule of KANU. Moi retained the presidency and George Saitoti became vice president. Although it held on to power, KANU won 100 seats and lost 88 seats to the six opposition parties.[84][86]\", metadata={'source': 'sample.txt'}),\n",
              " Document(page_content='The 1992 elections marked the beginning of multiparty politics after more than 25 years of KANU rule.[84] Following skirmishes in the aftermath of the elections, 5,000 people were killed and another 75,000 displaced from their homes.[87] In the next five years, many political alliances were formed in preparation for the next elections. In 1994, Jaramogi Oginga Odinga died and several coalitions joined his FORD Kenya party to form a new party, United National Democratic Alliance. This party was plagued with disagreements. In 1995, Richard Leakey formed the Safina party, but it was denied registration until November 1997.[88]', metadata={'source': 'sample.txt'}),\n",
              " Document(page_content=\"In 1996, KANU revised the constitution to allow Moi to remain president for another term. Subsequently, Moi stood for reelection and won a 5th term in 1997.[89] His win was strongly criticised by his major opponents, Kibaki and Odinga, as fraudulent.[88][90] Following this win, Moi was constitutionally barred from another presidential term. Beginning in 1998, he attempted to influence the country's succession politics to have Uhuru Kenyatta elected in the 2002 elections.[91]\", metadata={'source': 'sample.txt'}),\n",
              " Document(page_content='President Kibaki and the road to a new constitution\\nFurther information: Mwai Kibaki, Presidency of Mwai Kibaki, 2002 Kenyan general election, and 2007 Kenyan general election\\nMoi\\'s plan to be replaced by Uhuru Kenyatta failed, and Mwai Kibaki, running for the opposition coalition \"National Rainbow Coalition\" (NARC), was elected president. David Anderson (2003) reports the elections were judged free and fair by local and international observers, and seemed to mark a turning point in Kenya\\'s democratic evolution.[90]', metadata={'source': 'sample.txt'}),\n",
              " Document(page_content='In 2005, Kenyans rejected a plan to replace the 1963 independence constitution with a new one.[92] As a result, the elections of 2007 took place following the procedure set by the old constitution. Kibaki was reelected in highly contested elections marred by political and ethnic violence. The main opposition leader, Raila Odinga, claimed the election was rigged and that he was the rightfully elected president. In the ensuing violence, 1,500 people were killed and another 600,000 internally displaced, making it the worst post-election violence in Kenya. To stop the death and displacement of people, Kibaki and Odinga agreed to work together, with the latter taking the position of a prime minister.[93] This made Odinga the second prime minister of Kenya.', metadata={'source': 'sample.txt'}),\n",
              " Document(page_content='In July 2010, Kenya partnered with other East African countries to form the new East African Common Market within the East African Community.[94] In 2011, Kenya began sending troops to Somalia to fight the terror group Al-Shabaab.[95] In mid-2011, two consecutive missed rainy seasons precipitated the worst drought in East Africa in 60 years. The northwestern Turkana region was especially affected,[96] with local schools shut down as a result.[97] The crisis was reportedly over by early 2012 because of coordinated relief efforts. Aid agencies subsequently shifted their emphasis to recovery initiatives, including digging irrigation canals and distributing plant seeds.[98]', metadata={'source': 'sample.txt'}),\n",
              " Document(page_content='In August 2010, Kenyans held a referendum and passed a new constitution, which limited presidential powers and devolved the central government.[88] Following the passage of the new constitution, Kenya became a presidential representative democratic republic, whereby the President of Kenya is both head of state and head of government, and of a multi-party system. The new constitution also states that executive powers are exercised by the executive branch of government, headed by the president, who chairs a cabinet composed of people chosen from outside parliament. Legislative power is vested exclusively in Parliament. The judiciary is independent of the executive and the legislature.', metadata={'source': 'sample.txt'}),\n",
              " Document(page_content=\"Kenyatta presidency\\nMain articles: Uhuru Kenyatta and Presidency of Uhuru Kenyatta\\nUhuru Kenyatta in 2014\\nUhuru Kenyatta in 2014\\nAfter Kibaki's tenure ended in 2013, Kenya held its first general elections after the 2010 constitution had been passed. Uhuru Kenyatta won in a disputed election result, leading to a petition by the opposition leader, Raila Odinga. The supreme court upheld the election results and Kenyatta began his term with William Ruto as deputy president. Despite this ruling, the Supreme Court and the head of the Supreme Court were seen as powerful institutions that could check the powers of the president.[99]\", metadata={'source': 'sample.txt'}),\n",
              " Document(page_content='In 2017, Kenyatta won a second term in office in another disputed election. Odinga again petitioned the results in the Supreme Court, accusing the Independent Electoral and Boundaries Commission of mismanagement of the elections and Kenyatta and his party of rigging. The Supreme Court overturned the election results in what became a landmark ruling in Africa and one of the very few in the world in which the results of a presidential elections were annulled.[100] This ruling solidified the position of the Supreme Court as an independent body.[101] Consequently, Kenya had a second round of elections for the presidential position, in which Kenyatta emerged the winner after Odinga refused to participate, citing irregularities.[102][103]', metadata={'source': 'sample.txt'}),\n",
              " Document(page_content='In March 2018, a historic handshake between Kenyatta and his longtime opponent Odinga signaled a period of reconciliation followed by economic growth and increased stability.[104][105] Between 2019 and 2021, Kenyatta and Odinga combined efforts to promote major changes to the Kenyan constitution, labelled the \"Building Bridges Initiative\" (BBI), saying that their efforts were to improve inclusion and overcome the country\\'s winner-take-all election system that often resulted in post-election violence.[106][107] The BBI proposal called for broad expansion of the legislative and executive branches, including the creation of a prime minister with two deputies and an official leader of the opposition, reverting to selecting cabinet ministers from among the elected Members of Parliament, establishment of up to 70 new constituencies, and addition of up to 300 unelected members of Parliament (under an \"affirmative action\" plan).[106][107]', metadata={'source': 'sample.txt'}),\n",
              " Document(page_content=\"Critics saw this as an unnecessary attempt to reward political dynasties and blunt the efforts of Deputy President Willian Ruto (Odinga's rival for the next presidency) and bloat the government at an exceptional cost to the debt-laded country.[106][107] Ultimately, in May 2021, the Kenyan High Court ruled that the BBI constitutional reform effort was unconstitutional, because it was not truly a popular initiative, but rather an effort of the government.[106][107] The court sharply criticized Kenyatta for the attempt, laying out grounds for his being sued, personally, or even impeached (though the Parliament, which had passed the BBI, was unlikely to do that). The ruling was seen as a major defeat for both Kenyatta (soon to leave office), and Odinga (expected to seek the presidency), but a boon to Odinga's future presidential-election rival, Ruto.[106][107] On 20 August 2021, Kenya's Court of Appeal again upheld the High Court Judgment of May 2021, which was appealed by the BBI Secretariat.[108]\", metadata={'source': 'sample.txt'}),\n",
              " Document(page_content=\"Ruto presidency\\nIn August 2022, Deputy President William Ruto narrowly won the presidential election. He took 50.5% of the vote. His main rival, Raila Odinga, got 48.8% of the vote.[109] On 13 September 2022, William Ruto was sworn in as Kenya's fifth president.[110]\", metadata={'source': 'sample.txt'}),\n",
              " Document(page_content='Geography\\nMain article: Geography of Kenya\\n\\nA map of Kenya', metadata={'source': 'sample.txt'}),\n",
              " Document(page_content=\"A Köppen climate classification map of Kenya\\nAt 580,367 km2 (224,081 sq mi),[11] Kenya is the world's 47th-largest country (after Madagascar). It lies between latitudes 5°N and 5°S, and longitudes 34° and 42°E. From the coast on the Indian Ocean, the low plains rise to central highlands which are bisected by the Great Rift Valley, and fertile plateaus lie on either side, around Lake Victoria and to the east.[111][112]\", metadata={'source': 'sample.txt'}),\n",
              " Document(page_content='The Kenyan Highlands are one of the most successful agricultural production regions in Africa.[113] The highlands are the site of the highest point in Kenya and the second highest peak on the continent: Mount Kenya, which reaches a height of 5,199 m (17,057 ft) and is the site of glaciers. Mount Kilimanjaro (5,895 m or 19,341 ft) can be seen from Kenya to the south of the Tanzanian border.', metadata={'source': 'sample.txt'}),\n",
              " Document(page_content=\"Climate\\nKenya's climate varies from tropical along the coast to temperate inland to arid in the north and northeast parts of the country. The area receives a great deal of sunshine every month. It is usually cool at night and early in the morning inland at higher elevations.\", metadata={'source': 'sample.txt'}),\n",
              " Document(page_content='The \"long rains\" season occurs from March/April to May/June. The \"short rains\" season occurs from October to November/December. The rainfall is sometimes heavy and often falls in the afternoons and evenings. Climate change is altering the natural pattern of the rainfall period, causing an extension of the short rains, which has begat floods,[114] and reducing the drought cycle from every ten years to annual events, producing strong droughts such as the 2008–09 Kenya Drought.[115]', metadata={'source': 'sample.txt'}),\n",
              " Document(page_content='The temperature remains high throughout these months of tropical rain. The hottest period is February and March, leading into the season of the long rains, and the coldest is in July, until mid-August.[116]', metadata={'source': 'sample.txt'}),\n",
              " Document(page_content=\"Climate change is posing an increasing threat to global socio-[117]economic development and environmental sustainability. Developing countries with low adaptive capacity and high vulnerability to the phenomenon are disproportionately affected. Climate change in Kenya is increasingly impacting the lives of Kenya's citizens and the environment.[117] Climate Change has led to more frequent extreme weather events like droughts which last longer than usual, irregular and unpredictable rainfall, flooding and increasing temperatures.\", metadata={'source': 'sample.txt'}),\n",
              " Document(page_content='The effects of these climatic changes have made already existing challenges with water security, food security and economic growth even more difficult. Harvests and agricultural production which account for about 33%[118] of total Gross Domestic Product (GDP)[119] are also at risk. The increased temperatures, rainfall variability in arid and semi-arid areas, and strong winds associated with tropical cyclones have combined to create favorable conditions for the breeding and migration of pests.[120] An increase in temperature of up to 2.5 °C by 2050 is predicted to increase the frequency of extreme events such as floods and droughts.[117]\\nWildlife\\nMain articles: Wildlife of Kenya and Environmental issues in Kenya\\nKenya has considerable land area devoted to wildlife habitats, including the Masai Mara, where blue wildebeest and other bovids participate in a large-scale annual migration. More than one million wildebeest and 200,000 zebras participate in the migration across the Mara River.[121]', metadata={'source': 'sample.txt'}),\n",
              " Document(page_content='The \"Big Five\" game animals of Africa, that is the lion, leopard, buffalo, rhinoceros, and elephant, can be found in Kenya and in the Masai Mara in particular. A significant population of other wild animals, reptiles, and birds can be found in the national parks and game reserves in the country. The annual animal migration occurs between June and September, with millions of animals taking part, attracting valuable foreign tourism. Two million wildebeest migrate a distance of 2,900 kilometres (1,802 mi) from the Serengeti in neighbouring Tanzania to the Masai Mara[122] in Kenya, in a constant clockwise fashion, searching for food and water supplies. This Serengeti Migration of the wildebeest is listed among the Seven Natural Wonders of Africa.[123]', metadata={'source': 'sample.txt'}),\n",
              " Document(page_content='Kenya had a 2019 Forest Landscape Integrity Index mean score of 4.2/10, ranking it 133rd globally out of 172 countries.[124]\\n\\nGovernment and politics\\nMain article: Politics of Kenya', metadata={'source': 'sample.txt'}),\n",
              " Document(page_content=\"Kenya's third president, Mwai Kibaki\\nKenya is a presidential representative democratic republic with a multi-party system. The president is both the head of state and head of government. Executive power is exercised by the government. Legislative power is vested in both the government and the National Assembly and the Senate. The Judiciary is independent of the executive and the legislature. There has been growing concern, especially during former president Daniel arap Moi's tenure, that the executive was increasingly meddling with the affairs of the judiciary.[125]\", metadata={'source': 'sample.txt'}),\n",
              " Document(page_content=\"Kenya has high levels of corruption according to Transparency International's Corruption Perceptions Index (CPI), a metric which attempts to gauge the prevalence of public-sector corruption in various countries. In 2019, the nation placed 137th out of 180 countries in the index, with a score of 28 out of 100.[126] But there are several rather significant developments with regard to curbing corruption from the Kenyan government, for instance the establishment of a new and independent Ethics and Anti-Corruption Commission (EACC).[127]\", metadata={'source': 'sample.txt'}),\n",
              " Document(page_content='The Supreme Court of Kenya building\\nFollowing general elections held in 1997, the Constitution of Kenya Review Act, designed to pave the way for more comprehensive amendments to the Kenyan constitution, was passed by the national parliament.[128]', metadata={'source': 'sample.txt'}),\n",
              " Document(page_content=\"In December 2002, Kenya held democratic and open elections, which were judged free and fair by most international observers.[129] The 2002 elections marked an important turning point in Kenya's democratic evolution in that power was transferred peacefully from the Kenya African National Union (KANU), which had ruled the country since independence, to the National Rainbow Coalition (NARC), a coalition of political parties.\", metadata={'source': 'sample.txt'}),\n",
              " Document(page_content='Under the presidency of Mwai Kibaki, the new ruling coalition promised to focus its efforts on generating economic growth, combating corruption, improving education, and rewriting its constitution. A few of these promises have been met. There is free primary education.[130] In 2007, the government issued a statement declaring that from 2008, secondary education would be heavily subsidised, with the government footing all tuition fees.[131]', metadata={'source': 'sample.txt'}),\n",
              " Document(page_content='2013 elections and new government\\nMain articles: Kenyan general election, 2013 and Kenyan local elections, 2013\\nUnder the new constitution and with President Kibaki prohibited by term limits from running for a third term, Deputy Prime Minister Uhuru Kenyatta ran for office. He won with 50.51% of the vote in March 2013.', metadata={'source': 'sample.txt'}),\n",
              " Document(page_content=\"In December 2014, President Kenyatta signed a Security Laws Amendment Bill, which supporters of the law suggested was necessary to guard against armed groups. Opposition politicians, human rights groups, and nine Western countries criticised the security bill, arguing that it infringed on democratic freedoms. The governments of the United States, the United Kingdom, Germany, and France also collectively issued a press statement cautioning about the law's potential impact. Through the Jubilee Coalition, the Bill was later passed on 19 December in the National Assembly under acrimonious circumstances.[132]\", metadata={'source': 'sample.txt'}),\n",
              " Document(page_content='Foreign relations\\nMain article: Foreign relations of Kenya', metadata={'source': 'sample.txt'}),\n",
              " Document(page_content='President Barack Obama in Nairobi, July 2015\\nKenya has close ties with its fellow Swahili-speaking neighbours in the African Great Lakes region. Relations with Uganda and Tanzania are generally strong, as the three nations work toward economic and social integration through common membership in the East African Community.', metadata={'source': 'sample.txt'}),\n",
              " Document(page_content='Relations with Somalia have historically been tense, although there has been some military co-ordination against Islamist insurgents. Kenya has good relations with the United Kingdom.[133] Kenya is one of the most pro-American nations in Africa, and the wider world.[134]', metadata={'source': 'sample.txt'}),\n",
              " Document(page_content='With International Criminal Court trial dates scheduled in 2013 for both President Kenyatta and Deputy President William Ruto related to the 2007 election aftermath, US president Barack Obama chose not to visit the country during his mid-2013 African trip.[135] Later in the summer, Kenyatta visited China at the invitation of President Xi Jinping after a stop in Russia and not having visited the United States as president.[136] In July 2015, Obama visited Kenya, the first American president to visit the country while in office.[137]', metadata={'source': 'sample.txt'}),\n",
              " Document(page_content='The British Army Training Unit Kenya (BATUK) is used for the training of British infantry battalions in the arid and rugged terrain of the Great Rift Valley.[138][139]', metadata={'source': 'sample.txt'}),\n",
              " Document(page_content='Armed forces\\nMain article: Kenya Defence Forces\\nEmblem of the Kenya Defence Forces\\nEmblem of the Kenya Defence Forces\\nThe Kenya Defence Forces are the armed forces of Kenya. The Kenya Army, Kenya Navy, and Kenya Air Force compose the National Defence Forces. The current Kenya Defence Forces were established, and its composition laid out, in Article 241 of the 2010 Constitution of Kenya; the KDF is governed by the Kenya Defence Forces Act of 2012.[140] The President of Kenya is the commander-in-chief of all the armed forces.', metadata={'source': 'sample.txt'}),\n",
              " Document(page_content='The armed forces are regularly deployed in peacekeeping missions around the world. Further, in the aftermath of the national elections of December 2007 and the violence that subsequently engulfed the country, a commission of inquiry, the Waki Commission, commended its readiness and adjudged it to \"have performed its duty well.\"[141] Nevertheless, there have been serious allegations of human rights violations, most recently while conducting counter-insurgency operations in the Mt Elgon area[142] and also in the district of Mandera central.[143]', metadata={'source': 'sample.txt'}),\n",
              " Document(page_content='Kenya\\'s armed forces, like many government institutions in the country, have been tainted by corruption allegations. Because the operations of the armed forces have been traditionally cloaked by the ubiquitous blanket of \"state security\", the corruption has been hidden from public view, and thus less subject to public scrutiny and notoriety. This has changed recently. In what are by Kenyan standards unprecedented revelations, in 2010, credible claims of corruption were made with regard to recruitment[144] and procurement of armoured personnel carriers.[145] Further, the wisdom and prudence of certain decisions of procurement have been publicly questioned.[146]', metadata={'source': 'sample.txt'}),\n",
              " Document(page_content='Administrative divisions\\nMain articles: Counties of Kenya and Divisions of Kenya', metadata={'source': 'sample.txt'}),\n",
              " Document(page_content=\"Kenya's 47 counties\\nKenya is divided into 47 semi-autonomous counties that are headed by governors. These 47 counties form the first-order divisions of Kenya.\", metadata={'source': 'sample.txt'}),\n",
              " Document(page_content='The smallest administrative units in Kenya are called locations. Locations often coincide with electoral wards. Locations are usually named after their central villages/towns. Many larger towns consist of several locations. Each location has a chief, appointed by the state.', metadata={'source': 'sample.txt'}),\n",
              " Document(page_content='Constituencies are an electoral subdivision, with each county comprising a whole number of constituencies. An interim boundaries commission was formed in 2010 to review the constituencies and in its report, it recommended the creation of an additional 80 constituencies. Previous to the 2013 elections, there were 210 constituencies in Kenya.[147]', metadata={'source': 'sample.txt'}),\n",
              " Document(page_content='Human rights\\nSee also: Human rights in Kenya, LGBT rights in Kenya, and Human trafficking in Kenya\\nHomosexual acts are illegal in Kenya and punishable by up to 14 years in prison,[148] though the state often turns a blind eye and avoids prosecuting gay people[citation needed]. According to a 2020 survey by the Pew Research Center, 83% of Kenyans believe that homosexuality should not be accepted by society.[149] While addressing a joint press conference together with President Barack Obama in 2015, President Kenyatta declined to assure Kenya\\'s commitment to gay rights, saying that \"the issue of gay rights is really a non-issue... But there are some things that we must admit we don\\'t share. Our culture, our societies don\\'t accept.\"[150]', metadata={'source': 'sample.txt'}),\n",
              " Document(page_content='In November 2008, WikiLeaks brought wide international attention to The Cry of Blood report, which documents the extrajudicial killing of gangsters by the Kenyan police. In the report, the Kenya National Commission on Human Rights (KNCHR) reported these in their key finding \"e)\", stating that the forced disappearances and extrajudicial killings appeared to be official policy sanctioned by the political leadership and the police.[151][152]', metadata={'source': 'sample.txt'}),\n",
              " Document(page_content=\"Economy\\nMain article: Economy of Kenya\\nKenya's macroeconomic outlook has steadily posted robust growth over the past few decades mostly from road, rail, air and water transport infrastructure projects as well as massive investments in Information and Communication Technology. However, much of this growth has come from cash flows diverted from ordinary Kenyan pockets at the microeconomic level through targeted monetary and fiscal measures coupled with poor management, corruption, massive theft of public funds, overlegislation and an ineffective judiciary resulting in diminished incomes in ordinary households and small businesses, unemployment, underemployment and general discontent across multiple sectors. Kenya ranks poorly on the Fragile States Index at number 25 out of 178 countries, ranked in 2019, and is placed in the ALERT category. In 2014, the country's macroeconomic indicators were re-based, causing the GDP to shift upwards to low-middle-income country status.\", metadata={'source': 'sample.txt'}),\n",
              " Document(page_content='Despite government assurances to the contrary, the Kenyan government is currently broke and struggling to meet its financial obligations. Junior government employees at both national and county levels are the hardest hit and have not received their monthly salaries, benefits and deductions for up to six months or more.[153][154] There is conflicting data on the state of the economy from different government agencies with official data not reflecting record inflation and very high prices of food and other basic commodities.[155][156]', metadata={'source': 'sample.txt'}),\n",
              " Document(page_content='Kenya has a Human Development Index (HDI) of 0.555 (medium), ranked 145 out of 186 in the world. As of 2005, 17.7% of Kenyans lived on less than $1.25 a day. [157] In 2017, Kenya ranked 92nd in the World Bank ease of doing business rising from 113rd in 2016 (of 190 countries).[158] The important agricultural sector is one of the least developed and largely inefficient, employing 75% of the workforce compared to less than 3% in the food secure developed countries. Kenya is usually classified as a frontier market or occasionally an emerging market, but it is not one of the least developed countries.', metadata={'source': 'sample.txt'}),\n",
              " Document(page_content=\"The economy has seen much expansion, seen by strong performance in tourism, higher education, and telecommunications, and decent post-drought results in agriculture, especially the vital tea sector.[159] Kenya's economy grew by more than 7% in 2007, and its foreign debt was greatly reduced.[159] This changed immediately after the disputed presidential election of December 2007, following the chaos which engulfed the country.\", metadata={'source': 'sample.txt'}),\n",
              " Document(page_content='Telecommunications and financial activity over the last decade now comprise 62% of GDP. 22% of GDP still comes from the unreliable agricultural sector which employs 75% of the labour force (a characteristic of under-developed economies that have not attained food security). A small portion of the population relies on food aid.[160] Industry and manufacturing is the smallest sector, accounting for 16% of GDP. The service, industry and manufacturing sectors only employ 25% of the labour force but contribute 75% of GDP.[159] Kenya also exports textiles worth over $400 million under AGOA.', metadata={'source': 'sample.txt'}),\n",
              " Document(page_content=\"Privatisation of state corporations like the defunct Kenya Post and Telecommunications Company, which resulted in East Africa's most profitable company—Safaricom, has led to their revival because of massive private investment.\", metadata={'source': 'sample.txt'}),\n",
              " Document(page_content='As of May 2011, economic prospects are positive with 4–5% GDP growth expected, largely because of expansions in tourism, telecommunications, transport, construction, and a recovery in agriculture. The World Bank estimated growth of 4.3% in 2012.[161]', metadata={'source': 'sample.txt'}),\n",
              " Document(page_content=\"Kenya, trends in the Human Development Index 1970–2010\\nIn March 1996, the presidents of Kenya, Tanzania, and Uganda re-established the East African Community (EAC). The EAC's objectives include harmonising tariffs and customs regimes, free movement of people, and improving regional infrastructures. In March 2004, the three East African countries signed a Customs Union Agreement.\", metadata={'source': 'sample.txt'}),\n",
              " Document(page_content='Kenya has a more developed financial services sector than its neighbours. The Nairobi Securities Exchange (NSE) is ranked 4th in Africa in terms of market capitalisation. The Kenyan banking system is supervised by the Central Bank of Kenya (CBK). As of late July 2004, the system consisted of 43 commercial banks (down from 48 in 2001) and several non-bank financial institutions including mortgage companies, four savings and loan associations, and several core foreign-exchange bureaus.[159]', metadata={'source': 'sample.txt'}),\n",
              " Document(page_content='Tourism\\nMain article: Tourism in Kenya\\n\\nAmboseli National Park', metadata={'source': 'sample.txt'}),\n",
              " Document(page_content='Tsavo East National Park\\nTourism in Kenya is the second-largest source of foreign exchange revenue following agriculture.[162] The Kenya Tourism Board is responsible for maintaining information pertaining to tourism in Kenya.[163][164] The main tourist attractions are photo safaris through the 60 national parks and game reserves. Other attractions include the wildebeest migration at the Masaai Mara, which is considered to be the 7th wonder of the world; historical mosques, and colonial-era forts at Mombasa, Malindi, and Lamu; renowned scenery such as the white-capped Mount Kenya and the Great Rift Valley; tea plantations at Kericho; coffee plantations at Thika; a splendid view of Mount Kilimanjaro across the border into Tanzania; and the beaches along the Swahili Coast, in the Indian Ocean. Tourists, the largest number being from Germany and the United Kingdom, are attracted mainly to the coastal beaches and the game reserves, notably, the expansive East and Tsavo West National Park, 20,808 square kilometres (8,034 sq mi) to the southeast.[citation needed]', metadata={'source': 'sample.txt'}),\n",
              " Document(page_content='Agriculture\\nMain article: Agriculture in Kenya', metadata={'source': 'sample.txt'}),\n",
              " Document(page_content=\"Tea farm near Kericho, Kericho County\\nAgriculture is the second largest contributor to Kenya's gross domestic product (GDP) after the service sector. In 2005, agriculture, including forestry and fishing, accounted for 24% of GDP, as well as for 18% of wage employment and 50% of revenue from exports. The principal cash crops are tea, horticultural produce, and coffee. Horticultural produce and tea are the main growth sectors and the two most valuable of all of Kenya's exports. The production of major food staples such as corn is subject to sharp weather-related fluctuations. Production downturns periodically necessitate food aid—for example in 2004, due to one of Kenya's intermittent droughts.[165]\", metadata={'source': 'sample.txt'}),\n",
              " Document(page_content='A consortium led by the International Crops Research Institute for the Semi-Arid Tropics (ICRISAT) has had some success in helping farmers grow new pigeon pea varieties instead of maize, in particularly dry areas. Pigeon peas are very drought-resistant, so can be grown in areas with less than 650 millimetres (26 in) annual rainfall. Successive projects encouraged the commercialisation of legumes by stimulating the growth of local seed production and agro-dealer networks for distribution and marketing. This work, which included linking producers to wholesalers, helped to increase local producer prices by 20–25% in Nairobi and Mombasa. The commercialisation of the pigeon pea is now enabling some farmers to buy assets ranging from mobile phones to productive land and livestock, and is opening pathways for them to move out of poverty.[166]', metadata={'source': 'sample.txt'}),\n",
              " Document(page_content='Tea, coffee, sisal, pyrethrum, corn, and wheat are grown in the fertile highlands, one of the most successful agricultural production regions in Africa.[113] Livestock predominates in the semi-arid savanna to the north and east. Coconuts, pineapples, cashew nuts, cotton, sugarcane, sisal, and corn are grown in the lower-lying areas. Kenya has not attained the level of investment and efficiency in agriculture that can guarantee food security, and coupled with resulting poverty (53% of the population lives below the poverty line), a significant portion of the population regularly starves and is heavily dependent on food aid.[160] Poor roads, an inadequate railway network, under-used water transport, and expensive air transport have isolated mostly arid and semi-arid areas, and farmers in other regions often leave food to rot in the fields because they cannot access markets. This was last seen in August and September 2011, prompting the Kenyans for Kenya initiative by the Red Cross.[167]', metadata={'source': 'sample.txt'}),\n",
              " Document(page_content=\"Agricultural countryside in Kenya\\nKenya's irrigation sector is categorised into three organizational types: smallholder schemes, centrally-managed public schemes, and private/commercial irrigation schemes.\", metadata={'source': 'sample.txt'}),\n",
              " Document(page_content='The smallholder schemes are owned, developed, and managed by individuals or groups of farmers operating as water users or self-help groups. Irrigation is carried out on individual or on group farms averaging 0.1–0.4 ha. There are about 3,000 smallholder irrigation schemes covering a total area of 47,000 ha. The country has seven large, centrally managed irrigation schemes, namely Mwea, Bura, Hola, Perkera, West Kano, Bunyala, and Ahero, covering a total area of 18,200 ha and averaging 2,600 ha per scheme. These schemes are managed by the National Irrigation Board and account for 18% of irrigated land area in Kenya. Large-scale private commercial farms cover 45,000 hectares, accounting for 40% of irrigated land. They utilise high technology and produce high-value crops for the export market, especially flowers and vegetables.[168]', metadata={'source': 'sample.txt'}),\n",
              " Document(page_content=\"Kenya is the world's 3rd largest exporter of cut flowers.[169] Roughly half of Kenya's 127 flower farms are concentrated around Lake Naivasha, 90 kilometres northwest of Nairobi.[169] To speed their export, Nairobi airport has a terminal dedicated to the transport of flowers and vegetables.[169]\", metadata={'source': 'sample.txt'}),\n",
              " Document(page_content='Industry and manufacturing', metadata={'source': 'sample.txt'}),\n",
              " Document(page_content='The Kenya Commercial Bank office at KENCOM House (right) in Nairobi\\nAlthough Kenya is a low middle-income country, manufacturing accounts for 14% of the GDP, with industrial activity concentrated around the three largest urban centres of Nairobi, Mombasa, and Kisumu, and is dominated by food-processing industries such as grain milling, beer production, sugarcane crushing, and the fabrication of consumer goods, e.g., vehicles from kits.', metadata={'source': 'sample.txt'}),\n",
              " Document(page_content='Kenya also has a cement production industry.[170] Kenya has an oil refinery that processes imported crude petroleum into petroleum products, mainly for the domestic market. In addition, a substantial and expanding informal sector commonly referred to as jua kali engages in small-scale manufacturing of household goods, auto parts, and farm implements.[171][172]', metadata={'source': 'sample.txt'}),\n",
              " Document(page_content=\"Kenya's inclusion among the beneficiaries of the US Government's African Growth and Opportunity Act (AGOA) has given a boost to manufacturing in recent years. Since AGOA took effect in 2000, Kenya's clothing sales to the United States increased from US$44 million to US$270 million (2006).[173] Other initiatives to strengthen manufacturing have been the new government's favourable tax measures, including the removal of duty on capital equipment and other raw materials.[174]\", metadata={'source': 'sample.txt'}),\n",
              " Document(page_content=\"Transport\\nMain article: Transport in Kenya\\nThe country has an extensive network of paved and unpaved roads. Kenya's railway system links the nation's ports and major cities, connecting it with neighbouring Uganda. There are 15 airports which have paved runways.\", metadata={'source': 'sample.txt'}),\n",
              " Document(page_content='Energy\\nMain article: Energy in Kenya', metadata={'source': 'sample.txt'}),\n",
              " Document(page_content=\"Workers at Olkaria Geothermal Power Plant\\nThe largest share of Kenya's electricity supply comes from geothermal energy,[175] followed by hydroelectric stations at dams along the upper Tana River, as well as the Turkwel Gorge Dam in the west. A petroleum-fired plant on the coast, geothermal facilities at Olkaria (near Nairobi), and electricity imported from Uganda make up the rest of the supply. A 2,000 MW powerline from Ethiopia is nearing completion.\", metadata={'source': 'sample.txt'}),\n",
              " Document(page_content=\"Kenya's installed capacity increased from 1,142 megawatts between 2001 and 2003 to 2,341 in 2016.[176] The state-owned Kenya Electricity Generating Company (KenGen), established in 1997 under the name of Kenya Power Company, handles the generation of electricity, while Kenya Power handles the electricity transmission and distribution system in the country. Shortfalls of electricity occur periodically, when drought reduces water flow. To become energy sufficient, Kenya has installed wind power and solar power (over 300 MW each), and aims to build a nuclear power plant by 2027.[177][178]\", metadata={'source': 'sample.txt'}),\n",
              " Document(page_content=\"Kenya has proven deposits of oil in Turkana. Tullow Oil estimates the country's oil reserves to be around one billion barrels.[179] Exploration is still continuing to determine whether there are more reserves. Kenya currently imports all crude petroleum requirements. It has no strategic reserves and relies solely on oil marketers' 21-day oil reserves required under industry regulations. Petroleum accounts for 20% to 25% of the national import bill.[180]\", metadata={'source': 'sample.txt'}),\n",
              " Document(page_content='Chinese investment and trade\\nPublished comments on Kenya\\'s Capital FM website by Liu Guangyuan, China\\'s ambassador to Kenya, at the time of President Kenyatta\\'s 2013 trip to Beijing, said, \"Chinese investment in Kenya ... reached $474 million, representing Kenya\\'s largest source of foreign direct investment, and ... bilateral trade ... reached $2.84 billion\" in 2012. Kenyatta was \"[a]ccompanied by 60 Kenyan business people [and hoped to] ... gain support from China for a planned $2.5 billion railway from the southern Kenyan port of Mombasa to neighbouring Uganda, as well as a nearly $1.8 billion dam\", according to a statement from the president\\'s office, also at the time of the trip.[136]', metadata={'source': 'sample.txt'}),\n",
              " Document(page_content='Base Titanium, a subsidiary of Base resources of Australia, shipped its first major consignment of minerals to China. About 25,000 tonnes of ilmenite was flagged off the Kenyan coastal town of Kilifi. The first shipment was expected to earn Kenya about KSh.15–20 billion/= in earnings.[181] In 2014, the Chinese contracted railway project from Nairobi to Mombasa was suspended due to a dispute over compensation for land acquisition.[182]', metadata={'source': 'sample.txt'}),\n",
              " Document(page_content='Vision 2030', metadata={'source': 'sample.txt'}),\n",
              " Document(page_content=\"The official logo of Vision 2030\\nIn 2007, the Kenyan government unveiled Vision 2030, an economic development programme it hopes will put the country in the same league as the Asian Economic Tigers by 2030. In 2013, it launched a National Climate Change Action Plan, having acknowledged that omitting climate as a key development issue in Vision 2030 was an oversight failure. The 200-page Action Plan, developed with support from the Climate & Development Knowledge Network, sets out the Government of Kenya's vision for a 'low-carbon climate resilient development pathway'. At the launch in March 2013, the Secretary of the Ministry of Planning, National Development, and Vision 2030 emphasized that climate would be a central issue in the renewed Medium-Term Plan that would be launched in the coming months. This would create a direct and robust delivery framework for the Action Plan and ensure climate change is treated as an economy-wide issue.[183] Furthermore, Kenya submitted an updated, more ambitious NDC on December 24, 2020, with a commitment to abate greenhouse gases by 32 percent by 2030 relative to the business-as-usual scenario and in line with its sustainable development agenda and national circumstances.[184]\", metadata={'source': 'sample.txt'}),\n",
              " Document(page_content='Economic summary\\nGDP\\t$41.84 billion (2012) at Market Price. $76.07 billion (Purchasing Power Parity, 2012)\\nThere exists an informal economy that is never counted as part of the official GDP figures.', metadata={'source': 'sample.txt'}),\n",
              " Document(page_content='Annual growth rate\\t5.1% (2012)\\nPer capita income\\tPer Capita Income (PPP)= $1,800\\nAgricultural produce  \\ttea, coffee, corn, wheat, sugarcane, fruit, vegetables, dairy products, beef, pork, poultry, eggs\\nIndustry\\tsmall-scale consumer goods (plastic, furniture, batteries, textiles, clothing, soap, cigarettes, flour), agricultural products, horticulture, oil refining; aluminium, steel, lead; cement, commercial ship repair, tourism\\nTrade in 2012\\nExports\\t$5.942 billion\\ttea, coffee, horticultural products, petroleum products, cement, fish\\nMajor markets\\tUganda 9.9%, Tanzania 9.6%, Netherlands 8.4%, UK, 8.1%, US 6.2%, Egypt 4.9%, Democratic Republic of the Congo 4.2% (2012)[11]\\nImports\\t$14.39 billion\\tmachinery and transportation equipment, petroleum products, motor vehicles, iron and steel, resins and plastics\\nMajor suppliers\\tChina 15.3%, India 13.8%, UAE 10.5%, Saudi Arabia 7.3%, South Africa 5.5%, Japan 4.0% (2012)[11]\\nOil exploration\\nSee also: Oil in Kenya', metadata={'source': 'sample.txt'}),\n",
              " Document(page_content='Lake Turkana borders Turkana County.\\nKenya has proven oil deposits in Turkana County. President Mwai Kibaki announced on 26 March 2012 that Tullow Oil, an Anglo-Irish oil exploration firm, had struck oil, but its commercial viability and subsequent production would take about three years to confirm.[185]', metadata={'source': 'sample.txt'}),\n",
              " Document(page_content=\"Early in 2006, Chinese president Hu Jintao signed an oil exploration contract with Kenya, part of a series of deals designed to keep Africa's natural resources flowing to China's rapidly expanding economy.\", metadata={'source': 'sample.txt'}),\n",
              " Document(page_content=\"A family of lions in Maasai Mara\\nThe deal allowed for China's state-controlled offshore oil and gas company, CNOOC, to prospect for oil in Kenya, which is just beginning to drill its first exploratory wells on the borders of Sudan and the disputed area of North Eastern Province, on the border with Somalia and in coastal waters. There are formal estimates of the possible reserves of oil discovered.[186]\", metadata={'source': 'sample.txt'}),\n",
              " Document(page_content='Action against pollution\\nIn 2017, Kenya banned single-use plastic bags. According to the national environmental authority, 80% of the public has adhered to this ban. Subsequently, in 2020, the prohibition of single-use plastics was extended to protected areas, including parks and forests.[187]', metadata={'source': 'sample.txt'}),\n",
              " Document(page_content='A law passed in July 2023 mandates companies to actively reduce the pollution and environmental impact caused by the products they introduce into the Kenyan market, either individually or through collective schemes. Unlike previous practices, businesses are now obligated to participate in waste collection and recycling initiatives, such the Petco initiative established by the government in 2018.[187]', metadata={'source': 'sample.txt'}),\n",
              " Document(page_content='Child labour and prostitution', metadata={'source': 'sample.txt'}),\n",
              " Document(page_content='Maasai people. The Maasai live in both Kenya and Tanzania.\\nChild labour is common in Kenya, particularly in agriculture.[188] In 2006, UNICEF estimated that up to 30% of girls in the coastal areas of Malindi, Mombasa, Kilifi, and Diani were subject to prostitution. Most of the prostitutes in Kenya are aged 9–18.[188] The Ministry of Gender and Child Affairs employed 400 child protection officers in 2009.[188] The causes of child labour include poverty, the lack of access to education, and weak government institutions.[188] Kenya has ratified Convention No. 81 on labour inspection in industries and Convention No. 129 on labour inspection in agriculture.[189]', metadata={'source': 'sample.txt'}),\n",
              " Document(page_content='Child labour in Kenya\\nMicrofinance\\nMain article: Microfinance in Kenya\\nMore than 20 institutions offer business loans on a large scale, specific agriculture loans, education loans, and loans for other purposes. Additionally, there are:', metadata={'source': 'sample.txt'}),\n",
              " Document(page_content=\"emergency loans, which are more expensive in respect to interest rates, but are quickly available\\ngroup loans for smaller groups (four to five members) and larger groups (up to 30 members)\\nwomen's loans, which are also available to groups of women\\nOut of approximately 40 million Kenyans, about 14 million are unable to receive financial service through formal loan application services, and an additional 12 million have no access to financial service institutions at all. Further, one million Kenyans are reliant on informal groups for receiving financial aid.[190]\", metadata={'source': 'sample.txt'}),\n",
              " Document(page_content=\"To mitigate this problem, the mobile banking service M-Pesa was launched in 2007 by Vodafone and Safaricom, in collaboration from the Financial Deepening Challenge Fund competition established by the UK government's Department for International Development. M-Pesa allows users to deposit, withdraw, transfer money, pay for goods and services (Lipa na M-Pesa), access credit and savings, all with a mobile device,[191] has provided access to digital transactions to millions of Kenyans in poverty situation.[192]\", metadata={'source': 'sample.txt'}),\n",
              " Document(page_content='Demographics\\nMain article: Demographics of Kenya', metadata={'source': 'sample.txt'}),\n",
              " Document(page_content='A Bantu Kikuyu woman in traditional attire\\nPopulation[193][194]\\nYear\\tMillion\\n1948\\t5.4\\n1962\\t8.3\\n1969\\t10.9\\n2000\\t31.4\\n2021\\t53\\nKenya had a population of approximately 48 million in January 2017.[11] The country has a young population, with 73% of residents under 30 because of rapid population growth,[195][196] from 2.9 million to 40 million inhabitants over the last century.[197]', metadata={'source': 'sample.txt'}),\n",
              " Document(page_content=\"Nairobi is home to Kibera, one of the world's largest slums. The shantytown is believed to house between 170,000[198] and one million people.[199] The UNHCR base in Dadaab in the north houses around 500,000.[200]\", metadata={'source': 'sample.txt'}),\n",
              " Document(page_content=\"Ethnic groups\\nKenya has a diverse population that includes many of Africa's major ethnoracial and linguistic groups. Although there is no official list of Kenyan ethnic groups, the number of ethnic categories and sub-categories recorded in the country's census has changed significantly over time, expanding from 42 in 1969 to more than 120 in 2019.[201] Most residents are Bantus (60%) or Nilotes (30%).[202] Cushitic groups also form a small ethnic minority, as do Arabs, Indians, and Europeans.[202][203]\", metadata={'source': 'sample.txt'}),\n",
              " Document(page_content='According to the Kenya National Bureau of Statistics (KNBS), in 2019, Kenya had a total population of 47,564,296. The largest native ethnic groups were the Kikuyu (8,148,668), Luhya (6,823,842), Kalenjin (6,358,113), Luo (5,066,966), Kamba (4,663,910), Somali (2,780,502), Kisii (2,703,235), Mijikenda (2,488,691), Meru (1,975,869), Maasai (1,189,522), and Turkana (1,016,174). The North Eastern Province of Kenya, formerly known as NFD, is predominantly inhabited by the indigenous ethnic Somalis. Foreign-rooted populations include Arabs, Asians, and Europeans.[2]', metadata={'source': 'sample.txt'}),\n",
              " Document(page_content=\"Languages\\nMain article: Languages of Kenya\\nKenya's ethnic groups typically speak their mother tongues within their own communities. The two official languages, English and Swahili, are used in varying degrees of fluency for communication with other populations. English is widely spoken in commerce, schooling, and government.[204] Peri-urban and rural dwellers are less multilingual, with many in rural areas speaking only their native languages.[205]\", metadata={'source': 'sample.txt'}),\n",
              " Document(page_content='British English is primarily used in Kenya. Additionally, a distinct local dialect, Kenyan English, is used by some communities and individuals in the country, and contains features unique to it that were derived from local Bantu languages such as Kiswahili and Kikuyu.[206] It has been developing since colonisation and also contains certain elements of American English. Sheng is a Kiswahili-based cant spoken in some urban areas. Primarily a mixture of Swahili and English, it is an example of linguistic code-switching.[207]', metadata={'source': 'sample.txt'}),\n",
              " Document(page_content=\"69 languages are spoken in Kenya. Most belong to two broad language families: Niger-Congo (Bantu branch) and Nilo-Saharan (Nilotic branch), spoken by the country's Bantu and Nilotic populations respectively. The Cushitic and Arab ethnic minorities speak languages belonging to the separate Afroasiatic family, with the Indian and European residents speaking languages from the Indo-European family.[208]\", metadata={'source': 'sample.txt'}),\n",
              " Document(page_content='Urban centres\\nMain article: List of cities and towns in Kenya by population\\n  \\nLargest cities or towns in Kenya\\nAccording to the 2019 Census[209]\\nRank\\tName\\tCounty\\tPop.\\tRank\\tName\\tCounty\\tPop.\\nNairobi\\nNairobi\\nMombasa\\nMombasa\\t1\\tNairobi\\tNairobi\\t4 397 073\\t11\\tOngata Rongai\\tKajiado\\t172 569\\n2\\tMombasa\\tMombasa\\t1 208 333\\t12\\tGarissa\\tGarissa\\t163 399\\n3\\tNakuru\\tNakuru\\t570 674\\t13\\tKitale\\tTrans-Nzoia\\t162 174\\n4\\tRuiru\\tKiambu\\t490 120\\t14\\tJuja\\tKiambu\\t156 041\\n5\\tEldoret\\tUasin Gishu\\t475 716\\t15\\tMlolongo\\tMachakos\\t136 351\\n6\\tKisumu\\tKisumu\\t397 957\\t16\\tMalindi\\tKilifi\\t119 859\\n7\\tKikuyu\\tKiambu\\t323 881\\t17\\tMandera\\tMandera\\t114 718\\n8\\tThika\\tKiambu\\t251 407\\t18\\tKisii\\tKisii\\t112 417\\n9\\tNaivasha\\tNakuru\\t198 444\\t19\\tKakamega\\tKakamega\\t107 227\\n10\\tKaruri\\tKiambu\\t194 342\\t20\\tNgong\\tKajiado\\t102 323\\nReligion\\nMain article: Religion in Kenya', metadata={'source': 'sample.txt'}),\n",
              " Document(page_content='Holy Ghost Roman Catholic Cathedral in Mombasa\\nMost Kenyans are Christian (85.5%), with 53.9% Protestant and 20.6% Roman Catholic.[2] The Presbyterian Church of East Africa has 3 million followers in Kenya and surrounding countries.[210] There are smaller conservative Reformed churches, the Africa Evangelical Presbyterian Church,[211] the Independent Presbyterian Church in Kenya, and the Reformed Church of East Africa. Orthodox Christianity has 621,200 adherents.[212] Kenya has by far the highest number of Quakers of any country in the world, with around 146,300.[213] The only Jewish synagogue in the country is in Nairobi.', metadata={'source': 'sample.txt'}),\n",
              " Document(page_content=\"Islam is the second largest religion, comprising 11% of the population.[214] 60% of Kenyan Muslims live in the Coastal Region, comprising 50% of the total population there, while the upper part of Kenya's Eastern Region is home to 10% of the country's Muslims, where they are the majority religious group.[215] Indigenous beliefs are practised by 0.7% of the population, although many self-identifying Christians and Muslims maintain some traditional beliefs and customs. Nonreligious Kenyans are 1.6% of the population.[2]\", metadata={'source': 'sample.txt'}),\n",
              " Document(page_content='Some Hindus also live in Kenya. The numbers are estimated to be around 60,287, or 0.13% of the population.[2]\\n\\nHealth\\nMain article: Health in Kenya', metadata={'source': 'sample.txt'}),\n",
              " Document(page_content='Outpatient Department of AIC Kapsowar Hospital[216] in Kapsowar\\nHealth care is one of the low-priority sectors in Kenya and was allocated 4.8% of the national budget in 2019/2020 or just 4.59% of GDP compared to high-priority sectors such as education which was allocated more than 25%. This is below the 4.98% average in Sub-Saharan Africa and 9.83% spent globally.', metadata={'source': 'sample.txt'}),\n",
              " Document(page_content='According to the National and County Health Budget Analysis FY 2020/21, the breakdown of county health expenditure was 58% on Policy Planning and Administrative Support Services, 28% on Curative and Rehabilitative Health Services, 8% on Preventive and Promotive Health Services and 7% on Other Programmes.', metadata={'source': 'sample.txt'}),\n",
              " Document(page_content='Health care is largely funded by private individuals and their families or employers through direct payments to health care providers, to the National Health Insurance Fund or to medical insurance companies. Additional funding comes from local, international and some government social safety net schemes. Public hospitals are fee-for-service establishments that generate large amounts of county and national government revenues making them highly political and corrupt enterprises.[217]', metadata={'source': 'sample.txt'}),\n",
              " Document(page_content='Private health facilities are diverse, highly dynamic, and difficult to classify, unlike public health facilities, which are easily grouped in classes that consist of community-based (level I) services, run by community health workers; dispensaries (level II facilities) run by nurses; health centres (level III facilities), run by clinical officers; sub-county hospitals (level IV facilities), which may be run by a clinical officer or a medical officer; county hospitals (level V facilities), which may be run by a medical officer or a medical practitioner; and national referral hospitals (level VI facilities), which are run by fully qualified medical practitioners.', metadata={'source': 'sample.txt'}),\n",
              " Document(page_content=\"Table showing different grades of clinical officers, medical officers, and medical practitioners in Kenya's public service\\nNurses are by far the largest group of front-line health care providers in all sectors, followed by clinical officers, medical officers, and medical practitioners. These are absorbed and deployed into government service in accordance with the Scheme of Service for Nursing Personnel (2014), the Revised Scheme of Service for Clinical Personnel (2020) and the Revised Scheme of Service for Medical Officers and Dental Officers (2016).\", metadata={'source': 'sample.txt'}),\n",
              " Document(page_content='Traditional healers (herbalists, witch doctors, and faith healers) are readily available, trusted, and widely consulted as practitioners of first or last choice by both rural and urban dwellers.', metadata={'source': 'sample.txt'}),\n",
              " Document(page_content='Despite major achievements in the health sector, Kenya still faces many challenges. The estimated life expectancy dropped in 2009 to approximately 55 years — five years below the 1990 level.[218] The infant mortality rate was high at approximately 44 deaths per 1,000 children in 2012.[219] The WHO estimated in 2011 that only 42% of births were attended by a skilled health professional.[220]', metadata={'source': 'sample.txt'}),\n",
              " Document(page_content=\"Diseases of poverty directly correlate with a country's economic performance and wealth distribution: In 2015/16, 35.6% of Kenyans lived below the poverty line.[221] Preventable diseases like malaria, HIV/AIDS, pneumonia, diarrhoea, and malnutrition are the biggest burden, major child-killers, and responsible for much morbidity; weak policies, corruption, inadequate health workers, weak management, and poor leadership in the public health sector are largely to blame. According to 2009 estimates, HIV/AIDS prevalence is about 6.3% of the adult population.[222] However, the 2011 UNAIDS Report suggests that the HIV epidemic may be improving in Kenya, as HIV prevalence is declining among young people (ages 15–24) and pregnant women.[223] Kenya had an estimated 15 million cases of malaria in 2006.[224]\", metadata={'source': 'sample.txt'}),\n",
              " Document(page_content='Women\\nMain articles: Women in Kenya, Child marriage in Kenya, and Polygamy in Kenya\\nThe total fertility rate in Kenya was estimated to be 4.49 children per woman in 2012.[225] According to a 2008–09 survey by the Kenyan government, the total fertility rate was 4.6% and the contraception usage rate among married women was 46%.[226] Maternal mortality is high, partly because of female genital mutilation,[159] with about 27% of women having undergone it.[227] This practice is however on the decline as the country becomes more modernised, and in 2011 it was banned in Kenya.[228] Women were economically empowered before colonialisation. By colonial land alienation, women lost access and control of land.[229] They became more economically dependent on men.[229] A colonial order of gender emerged where males dominated females.[229] Median age at first marriage increases with increasing education.[230] Rape, defilement, and battering are not always seen as serious crimes.[231] Reports of sexual assault are not always taken seriously.[231]', metadata={'source': 'sample.txt'}),\n",
              " Document(page_content=\"Youth\\nArticle 260 of the Kenyan Constitution of 2010 defines youth as those between the ages of 18 and 34.[232] According to the 2019 Population and Census results, 75 percent of the 47.6 million population is under the age of 35, making Kenya a country of the youth.[233] Youth unemployment and underemployment in Kenya has become a problem.[234] According to the Kenya National Bureau of Statistics (KNBS), approximately 1.7 million people lost their jobs as a result of the COVID-19 pandemic, which eliminated some informal jobs and caused the economy to slow.[234] The Kenyan government has made progress in addressing the high youth unemployment by implementing various affirmative action programs and projects which include: the National Youth Service, The National Youth Enterprise Development Fund,[235] The Women Enterprise Fund,[236] Kazi Mtaani, Ajira Digital, Kikao Mtaani,[237] Uwezo fund,[238] Future Bora[239] and Studio mashinani[240] that empower youth, offer job opportunities and to raise one's standard of living.[241]\", metadata={'source': 'sample.txt'}),\n",
              " Document(page_content='Education\\nMain article: Education in Kenya\\n\\nSchool children in a classroom', metadata={'source': 'sample.txt'}),\n",
              " Document(page_content='An MSc student at Kenyatta University in Nairobi\\nChildren attend nursery school, or kindergarten in the private sector until they are five years old. This lasts one to three years (KG1, KG2 and KG3) and is financed privately because there has been no government policy on pre-schooling until recently.[242]', metadata={'source': 'sample.txt'}),\n",
              " Document(page_content='Basic formal education starts at age six and lasts 12 years, consisting of eight years in primary school and four in high school or secondary. Primary school is free in public schools and those attending can join a vocational youth/village polytechnic, or make their own arrangements for an apprenticeship program and learn a trade such as tailoring, carpentry, motor vehicle repair, brick-laying and masonry for about two years.[243]', metadata={'source': 'sample.txt'}),\n",
              " Document(page_content=\"Those who complete high school can join a polytechnic or other technical college and study for three years, or proceed directly to university and study for four years. Graduates from the polytechnics and colleges can then join the workforce and later obtain a specialised higher diploma qualification after a further one to two years of training, or join the university—usually in the second or third year of their respective course. The higher diploma is accepted by many employers in place of a bachelor's degree and direct or accelerated admission to post-graduate studies is possible in some universities.\", metadata={'source': 'sample.txt'}),\n",
              " Document(page_content='A Maasai girl at school\\nPublic universities in Kenya are highly commercialised institutions and only a small fraction of qualified high school graduates are admitted on limited government-sponsorship into programs of their choice. Most are admitted into the social sciences, which are cheap to run, or as self-sponsored students paying the full cost of their studies. Most qualified students who miss out opt for middle-level diploma programs in public or private universities, colleges, and polytechnics.', metadata={'source': 'sample.txt'}),\n",
              " Document(page_content='In 2018, 18.5 percent of the Kenyan adult population was illiterate, which was the highest rate of literacy in East Africa.[244][245] There are very wide regional disparities: for example, Nairobi had the highest level of literacy at 87.1 per cent, compared to North Eastern Province, the lowest, at 8.0 per cent. Preschool, which targets children from age three to five, is an integral component of the education system and is a key requirement for admission to Standard One (First Grade). At the end of primary education, pupils sit the Kenya Certificate of Primary Education (KCPE), which determines those who proceed to secondary school or vocational training. The result of this examination is needed for placement at secondary school.[243]', metadata={'source': 'sample.txt'}),\n",
              " Document(page_content='Primary school is for students aged 6/7-13/14 years. For those who proceed to the secondary level, there is a national examination at the end of Form Four – the Kenya Certificate of Secondary Education (KCSE), which determines those proceeding to the universities, other professional training, or employment. Students sit examinations in eight subjects of their choosing. However, English, Kiswahili, and mathematics are compulsory subjects.', metadata={'source': 'sample.txt'}),\n",
              " Document(page_content='The Kenya Universities and Colleges Central Placement Service (KUCCPS), formerly the Joint Admissions Board (JAB), is responsible for selecting students joining the public universities. Other than the public schools, there are many private schools, mainly in urban areas. Similarly, there are a number of international schools catering to various overseas educational systems.', metadata={'source': 'sample.txt'}),\n",
              " Document(page_content='Kenya was ranked 100th in the Global Innovation Index in 2023.[246]\\n\\nCulture', metadata={'source': 'sample.txt'}),\n",
              " Document(page_content='This section needs additional citations for verification. Please help improve this article by adding citations to reliable sources in this section. Unsourced material may be challenged and removed.\\nFind sources: \"Kenya\" – news · newspapers · books · scholar · JSTOR (December 2020) (Learn how and when to remove this template message)\\nMain article: Culture of Kenya', metadata={'source': 'sample.txt'}),\n",
              " Document(page_content='Kenyan boys and girls performing a traditional dance', metadata={'source': 'sample.txt'}),\n",
              " Document(page_content=\"Nation Media House, which hosts the Nation Media Group\\nThe culture of Kenya comprises multiple traditions. Kenya has no single prominent culture. It instead consists of the various cultures of the country's different communities.\", metadata={'source': 'sample.txt'}),\n",
              " Document(page_content=\"Notable populations include the Swahili on the coast, several other Bantu communities in the central and western regions, and Nilotic communities in the northwest. The Maasai culture is well known to tourism, despite constituting a relatively small part of Kenya's population. They are renowned for their elaborate upper-body adornment and jewellery.\", metadata={'source': 'sample.txt'}),\n",
              " Document(page_content='Additionally, Kenya has an extensive music, television, and theatre scene.', metadata={'source': 'sample.txt'}),\n",
              " Document(page_content='Media\\nFurther information: Media of Kenya\\nKenya has a number of media outlets that broadcast domestically and globally. They cover news, business, sports, and entertainment. Popular Kenyan newspapers include:', metadata={'source': 'sample.txt'}),\n",
              " Document(page_content='The Daily Nation; part of the Nation Media Group (NMG) (largest market share)\\nThe Standard\\nThe Star\\nThe People\\nEast Africa Weekly\\nTaifa Leo\\nTelevision stations based in Kenya include:', metadata={'source': 'sample.txt'}),\n",
              " Document(page_content='Kenya Broadcasting Corporation (KBC)\\nCitizen TV\\nKenya Television Network (KTN)\\nNTV (part of the Nation Media Group (NMG))\\nKiss Television\\nK24 Television\\nKass-TV\\nAll these terrestrial channels are transmitted via a DVB T2 digital TV signal.', metadata={'source': 'sample.txt'}),\n",
              " Document(page_content='Literature\\nMain article: Kenyan literature', metadata={'source': 'sample.txt'}),\n",
              " Document(page_content=\"Kenyan author Ngũgĩ wa Thiong'o\\nNgũgĩ wa Thiong'o is one of Kenya's best-known writers. His novel Weep Not, Child depicts life in Kenya during the British occupation. The story details the effects of the Mau Mau on the lives of Kenyans. Its combination of themes—colonialism, education, and love—helped make it one of the best-known African novels.\", metadata={'source': 'sample.txt'}),\n",
              " Document(page_content=\"M.G. Vassanji's 2003 novel The In-Between World of Vikram Lall won the Giller Prize in 2003. It is the fictional memoir of a Kenyan of Indian heritage and his family as they adjust to the changing political climates in colonial and post-colonial Kenya.\", metadata={'source': 'sample.txt'}),\n",
              " Document(page_content='Since 2003, the literary journal Kwani? has been publishing Kenyan contemporary literature. Kenya has also nurtured emerging versatile authors such as Paul Kipchumba (Kipwendui, Kibiwott) who demonstrate a pan-African outlook.[247]', metadata={'source': 'sample.txt'}),\n",
              " Document(page_content='Music\\nMain article: Music of Kenya', metadata={'source': 'sample.txt'}),\n",
              " Document(page_content='Popular Kenyan musician Jua Cali\\nKenya has a diverse assortment of popular music forms, in addition to multiple types of folk music based on the variety of over 40 regional languages.[248]', metadata={'source': 'sample.txt'}),\n",
              " Document(page_content='Drums are the most dominant instrument in popular Kenyan music. Drum beats are very complex and include both native rhythms and imported ones, especially the Congolese cavacha rhythm. Popular Kenyan music usually involves the interplay of multiple parts, and more recently, showy guitar solos as well. There are also a number of local hip-hop artists, including Jua Cali; Afro-pop bands such as Sauti Sol; and musicians who play local genres like Benga, such as Akothee.', metadata={'source': 'sample.txt'}),\n",
              " Document(page_content='Lyrics are most often in Kiswahili or English. There is also some emerging aspect of Lingala borrowed from Congolese musicians. Lyrics are also written in local languages. Urban radio generally only plays English music, though there also exist a number of vernacular radio stations.', metadata={'source': 'sample.txt'}),\n",
              " Document(page_content=\"Zilizopendwa is a genre of local urban music that was recorded in the 1960s, 70s, and 80s by musicians such as Daudi Kabaka, Fadhili William, and Sukuma Bin Ongaro, and is particularly enjoyed by older people—having been popularised by the Kenya Broadcasting Corporation's Kiswahili service (formerly called Voice of Kenya or VOK).\", metadata={'source': 'sample.txt'}),\n",
              " Document(page_content='The Isukuti is a vigorous dance performed by the Luhya sub-tribes to the beat of a traditional drum called the Isukuti during many occasions such as the birth of a child, marriage, or funeral. Other traditional dances include the Ohangla among the Luo, Nzele among the Mijikenda, Mugithi among the Kikuyu, and Taarab among the Swahili.', metadata={'source': 'sample.txt'}),\n",
              " Document(page_content='Additionally, Kenya has a growing Christian gospel music scene. Prominent local gospel musicians include the Kenyan Boys Choir.', metadata={'source': 'sample.txt'}),\n",
              " Document(page_content='Benga music has been popular since the late 1960s, especially in the area around Lake Victoria. The word benga is occasionally used to refer to any kind of pop music. Bass, guitar, and percussion are the usual instruments.', metadata={'source': 'sample.txt'}),\n",
              " Document(page_content='Sports\\nMain article: Sport in Kenya', metadata={'source': 'sample.txt'}),\n",
              " Document(page_content=\"Jepkosgei Kipyego and Jepkemoi Cheruiyot at the 2012 London Olympics\\nKenya is active in several sports, among them cricket, rallying, football, rugby, field hockey, and boxing. The country is known chiefly for its dominance in middle-distance and long-distance athletics, having consistently produced Olympic and Commonwealth Games champions in various distance events, especially in 800 m, 1,500 m, 3,000 m steeplechase, 5,000 m, 10,000 m, and the marathon. Kenyan athletes (particularly Kalenjin), continue to dominate the world of distance running, although competition from Morocco and Ethiopia has reduced this supremacy. Kenya's best-known athletes include the four-time women's Boston Marathon winner and two-time world champion Catherine Ndereba, 800m world record holder David Rudisha, former marathon world record-holder Paul Tergat, and John Ngugi.\", metadata={'source': 'sample.txt'}),\n",
              " Document(page_content=\"Kenya won several medals during the Beijing Olympics: six gold, four silver, and four bronze, making it Africa's most successful nation in the 2008 Olympics. New athletes gained attention, such as Pamela Jelimo, the women's 800m gold medalist who went on to win the IAAF Golden League jackpot, and Samuel Wanjiru, who won the men's marathon. Retired Olympic and Commonwealth Games champion Kipchoge Keino helped usher in Kenya's ongoing distance dynasty in the 1970s and was followed by Commonwealth Champion Henry Rono's spectacular string of world record performances. Lately, there has been controversy in Kenyan athletics circles, with the defection of a number of Kenyan athletes to represent other countries, chiefly Bahrain and Qatar.[249] The Kenyan Ministry of Sports has tried to stop the defections, but they have continued anyway, with Bernard Lagat being the latest, choosing to represent the United States.[249] Most of these defections occur because of economic or financial factors.[250] Decisions by the Kenyan government to tax athletes' earnings may also be a motivating factor.[251] Some elite Kenyan runners who cannot qualify for their country's strong national team find it easier to qualify by running for other countries.[252]\", metadata={'source': 'sample.txt'}),\n",
              " Document(page_content=\"Kenyan Olympic and world record holder in the 800 meters, David Rudisha\\nKenya has been a dominant force in women's volleyball within Africa, with both the clubs and the national team winning various continental championships in the past decade.[253][254] The women's team has competed at the Olympics and World Championships, though without any notable success. Cricket is another popular sport, also ranking as the most successful team sport. Kenya has competed in the Cricket World Cup since 1996. They upset some of the world's best teams and reached the semi-finals of the 2003 tournament. They won the inaugural World Cricket League Division 1 hosted in Nairobi and participated in the World T20. They also participated in the ICC Cricket World Cup 2011. Their current captain is Rakep Patel.[255]\", metadata={'source': 'sample.txt'}),\n",
              " Document(page_content='Rugby is increasing in popularity, especially with the annual Safari Sevens tournament. The Kenya Sevens team ranked 9th in the IRB Sevens World Series for the 2006 season. In 2016, the team beat Fiji at the Singapore Sevens finals, making Kenya the second African nation after South Africa to win a World Series championship.[256][257][258] Kenya was once also a regional powerhouse in football. However, its dominance has been eroded by wrangles within the now defunct Kenya Football Federation,[259] leading to a suspension by FIFA which was lifted in March 2007.', metadata={'source': 'sample.txt'}),\n",
              " Document(page_content='In the motor rallying arena, Kenya is home to the world-famous Safari Rally, commonly acknowledged as one of the toughest rallies in the world.[260] First held in 1953, it was a part of the World Rally Championship for many years until its exclusion after the 2002 event owing to financial difficulties. Some of the best rally drivers in the world have taken part in and won the rally, such as Björn Waldegård, Hannu Mikkola, Tommi Mäkinen, Shekhar Mehta, Carlos Sainz, and Colin McRae. The Safari Rally returned to the world championship in 2021, after the 2003–2019 events ran as part of the African Rally Championship.', metadata={'source': 'sample.txt'}),\n",
              " Document(page_content=\"Nairobi has hosted several major continental sports events, including the FIBA Africa Championship 1993, where Kenya's national basketball team finished in the top four, its best performance to date.[261]\", metadata={'source': 'sample.txt'}),\n",
              " Document(page_content=\"Kenya also has its own ice hockey team, the Kenya Ice Lions.[262] The team's home ground is the Solar Ice Rink at the Panari Sky Centre in Nairobi,[263][264] which is the first and largest ice rink in all of Africa.[265]\", metadata={'source': 'sample.txt'}),\n",
              " Document(page_content=\"Kenya men's national field hockey team was considered one of the good teams in the world during 1960s and 1970s.\", metadata={'source': 'sample.txt'}),\n",
              " Document(page_content=\"Roshan Ali, former goalkeeper of Kenya field hockey team.\\nKenya was got 6th position in 1964 Summer Olympics hockey tournament and 4th in 1971 Men's FIH Hockey World Cup .\\n\\nCuisine\", metadata={'source': 'sample.txt'}),\n",
              " Document(page_content=\"Ugali and sukuma wiki, staples of Kenyan cuisine\\nKenyans generally have three meals in a day—breakfast (kiamsha kinywa), lunch (chakula cha mchana), and supper (chakula cha jioni or simply chajio). In between, they have the 10-o'clock tea (chai ya saa nne) and 4 p.m. tea (chai ya saa kumi). Breakfast is usually tea or porridge with bread, chapati, mahamri, boiled sweet potatoes, or yams. Githeri is a common lunchtime dish in many households, while Ugali with vegetables, sour milk (mursik), meat, fish, or any other stew is generally eaten by much of the population for lunch or supper. Regional variations and dishes also exist.\", metadata={'source': 'sample.txt'}),\n",
              " Document(page_content='In western Kenya, among the Luo, fish is a common dish; among the Kalenjin, who dominate much of the Rift Valley Region, mursik—sour milk—is a common drink.', metadata={'source': 'sample.txt'}),\n",
              " Document(page_content='In cities such as Nairobi, there are fast-food restaurants, including Steers, KFC,[266] and Subway.[267] There are also many fish-and-chips shops.[268]', metadata={'source': 'sample.txt'}),\n",
              " Document(page_content='Cheese is becoming more popular in Kenya, with consumption increasing particularly among the middle class.[269][270]', metadata={'source': 'sample.txt'})]"
            ]
          },
          "metadata": {},
          "execution_count": 9
        }
      ]
    },
    {
      "cell_type": "markdown",
      "source": [
        "# **Text Embedding Models**\n",
        "\n",
        "**Take unstructured text and turn it into a list of floating point numbers**\n",
        "\n"
      ],
      "metadata": {
        "id": "zuwzKH5rDKM8"
      }
    },
    {
      "cell_type": "code",
      "source": [
        "# Hugging Face OpenSource Model\n",
        "embeddings = SentenceTransformerEmbeddings(model_name='all-MiniLM-L6-V2')"
      ],
      "metadata": {
        "id": "tb4c3EeMDbww"
      },
      "execution_count": 14,
      "outputs": []
    },
    {
      "cell_type": "markdown",
      "source": [
        "# **Vector Stores**\n",
        "\n",
        "**Store and searchover embedded data & look at embeddings - Numeric Representation**"
      ],
      "metadata": {
        "id": "xRNN8Y7pEWDW"
      }
    },
    {
      "cell_type": "code",
      "source": [
        "db = Chroma.from_documents(texts, embeddings)"
      ],
      "metadata": {
        "id": "rOYHSwcUEp_A"
      },
      "execution_count": 12,
      "outputs": []
    },
    {
      "cell_type": "code",
      "source": [
        "db._collection.get(include=['embeddings'])"
      ],
      "metadata": {
        "id": "TRxSk9bmFmDf"
      },
      "execution_count": null,
      "outputs": []
    },
    {
      "cell_type": "markdown",
      "source": [
        "# **Retrievers**\n",
        "**Query your data**"
      ],
      "metadata": {
        "id": "Sl_R8CwMF0Zb"
      }
    },
    {
      "cell_type": "code",
      "source": [
        "retriever = db.as_retriever(search_kwargs={\"k\": 1})"
      ],
      "metadata": {
        "id": "PsogCJGiF9ct"
      },
      "execution_count": 18,
      "outputs": []
    },
    {
      "cell_type": "code",
      "source": [
        "retriever"
      ],
      "metadata": {
        "colab": {
          "base_uri": "https://localhost:8080/"
        },
        "id": "qhRqbcnLGk-A",
        "outputId": "b317efeb-da95-485d-f40c-88eff096dbb1"
      },
      "execution_count": 19,
      "outputs": [
        {
          "output_type": "execute_result",
          "data": {
            "text/plain": [
              "VectorStoreRetriever(tags=['Chroma', 'HuggingFaceEmbeddings'], vectorstore=<langchain_community.vectorstores.chroma.Chroma object at 0x7fe21d330df0>, search_kwargs={'k': 1})"
            ]
          },
          "metadata": {},
          "execution_count": 19
        }
      ]
    },
    {
      "cell_type": "markdown",
      "source": [
        "# **Question 1**"
      ],
      "metadata": {
        "id": "IV-M2TZ9G-9Q"
      }
    },
    {
      "cell_type": "code",
      "source": [
        "docs = retriever.get_relevant_documents(\"What's the capital of Kenya\")"
      ],
      "metadata": {
        "id": "_8wdD8MDHBvH"
      },
      "execution_count": 21,
      "outputs": []
    },
    {
      "cell_type": "code",
      "source": [
        "docs"
      ],
      "metadata": {
        "colab": {
          "base_uri": "https://localhost:8080/"
        },
        "id": "qqVNw-xfHNpG",
        "outputId": "60f563dc-4e71-4eea-b5aa-da3fcdb1b1a7"
      },
      "execution_count": 22,
      "outputs": [
        {
          "output_type": "execute_result",
          "data": {
            "text/plain": [
              "[Document(page_content=\"Kenya, officially the Republic of Kenya (Swahili: Jamhuri ya Kenya), is a country in East Africa. A member of the Commonwealth with a population of more than 47.6 million in the 2019 census,[12] Kenya is the 28th most populous country in the world[7] and 7th most populous in Africa. Kenya's capital and largest city is Nairobi, while its oldest and second largest city, which until 1907 was also Kenya's first capital city, is the major port city of Mombasa which includes Mombasa Island in the Indian Ocean and the surrounding mainland. Other important cities include Kisumu and Nakuru. Kenya is bordered by South Sudan to the northwest, Ethiopia to the north, Somalia to the east, Uganda to the west, Tanzania to the south, and the Indian Ocean to the southeast. Kenya's geography, climate and population vary widely, ranging from cold snow-capped mountaintops (Batian, Nelion and Point Lenana on Mount Kenya) with vast surrounding forests, wildlife and fertile agricultural regions to temperate climates in western and rift valley counties and further on to dry less fertile arid and semi-arid areas and absolute deserts (Chalbi Desert and Nyiri Desert).\", metadata={'source': 'sample.txt'})]"
            ]
          },
          "metadata": {},
          "execution_count": 22
        }
      ]
    }
  ]
}